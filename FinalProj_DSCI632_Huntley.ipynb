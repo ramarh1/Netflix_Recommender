{
  "cells": [
    {
      "cell_type": "markdown",
      "metadata": {
        "id": "view-in-github",
        "colab_type": "text"
      },
      "source": [
        "<a href=\"https://colab.research.google.com/github/ramarh1/Netflix_Recommender/blob/main/FinalProj_DSCI632_Huntley.ipynb\" target=\"_parent\"><img src=\"https://colab.research.google.com/assets/colab-badge.svg\" alt=\"Open In Colab\"/></a>"
      ]
    },
    {
      "cell_type": "markdown",
      "metadata": {
        "id": "q6VVDe7XDnlZ"
      },
      "source": [
        "# Final Project DSCI632\n",
        "Name: Ramar Huntley\n",
        "\n",
        "Email: rh877@drexel.edu"
      ]
    },
    {
      "cell_type": "code",
      "source": [
        "!apt-get install openjdk-8-jdk-headless -qq > /dev/null\n",
        "\n",
        "!wget -q https://downloads.apache.org/spark/spark-3.5.1/spark-3.5.1-bin-hadoop3.tgz\n",
        "\n",
        "!tar xf spark-3.5.1-bin-hadoop3.tgz\n",
        "\n",
        "!pip install -q findspark\n",
        "\n",
        "import os\n",
        "\n",
        "os.environ[\"JAVA_HOME\"] = \"/usr/lib/jvm/java-8-openjdk-amd64\"\n",
        "\n",
        "os.environ[\"SPARK_HOME\"] = \"/content/spark-3.5.1-bin-hadoop3\"\n",
        "\n",
        "import findspark\n",
        "\n",
        "findspark.init()"
      ],
      "metadata": {
        "id": "6DULIGDlPcdT"
      },
      "execution_count": null,
      "outputs": []
    },
    {
      "cell_type": "code",
      "execution_count": null,
      "metadata": {
        "id": "AD11jRPsCVYF"
      },
      "outputs": [],
      "source": [
        "from pyspark.sql import SparkSession\n",
        "APP_NAME = \"Netflix Recommender System\"\n",
        "SPARK_URL = \"/usr/local[*]\"\n",
        "spark = SparkSession.builder.appName(APP_NAME).getOrCreate()"
      ]
    },
    {
      "cell_type": "markdown",
      "metadata": {
        "id": "Ty7f8Mxvog_N"
      },
      "source": [
        "\n",
        "\n",
        "\n",
        "\n",
        "\n",
        "\n",
        "\n",
        "\n",
        "\n",
        "\n",
        "\n",
        "\n",
        "\n",
        "\n",
        "\n",
        "\n",
        "\n",
        "\n",
        "\n",
        "\n",
        "\n",
        "\n",
        "\n",
        "\n",
        "\n",
        "\n",
        "\n",
        "\n",
        "\n",
        "\n",
        "\n",
        "\n",
        "\n",
        "\n",
        "\n",
        "\n",
        "\n",
        "\n",
        "\n",
        "\n",
        "\n",
        "\n",
        "\n"
      ]
    },
    {
      "cell_type": "markdown",
      "metadata": {
        "id": "lEIaTHiQEshI"
      },
      "source": [
        "## Background"
      ]
    },
    {
      "cell_type": "markdown",
      "metadata": {
        "id": "BRJUp5FBc71_"
      },
      "source": [
        "1. Why are you choosing this dataset?\n",
        "The dataset presented is a Netflix database taken from Kaggle, presenting the description, title, genre, certificate, year, cast, and ratings from IMDB. I chose this dataset because it seemed perfect for building a recommender system using cosine similarity.\n",
        "Reference: https://www.kaggle.com/datasets/narayan63/netflix-popular-movies-dataset?resource=download\n",
        "\n",
        "\n",
        "2. What variables will you use?\n",
        "The variables that I will be more focused on are **title**, **duration**, **rating**, and **description**, which are the most important variables required to recommend shows.\n",
        "\n",
        "\n",
        "3. What analysis(es) will you run?\n",
        "I will compare movie/show descriptions using cosine similarity to recommend shows to Netflix users.\n",
        "\n",
        "\n",
        "4. Do you have any hypotheses? What are they?\n",
        "My hypothesis is that the votes variable (how many votes received by a Netflix title) will have a positive correlation with the overall rating a title receives.\n"
      ]
    },
    {
      "cell_type": "code",
      "execution_count": null,
      "metadata": {
        "id": "wQR60xQOrY0L"
      },
      "outputs": [],
      "source": [
        "import pandas as pd"
      ]
    },
    {
      "cell_type": "code",
      "execution_count": null,
      "metadata": {
        "id": "uTreIfC3CVnv"
      },
      "outputs": [],
      "source": [
        "# Loading the data\n",
        "\n",
        "from pyspark.sql.types import StructType, StructField, FloatType, StringType, IntegerType, DoubleType\n",
        "\n",
        "#Change schema of duration and votes row\n",
        "netflixSchema = StructType([\n",
        "  StructField('title', StringType(), True),\n",
        "  StructField('year', StringType(), True),\n",
        "  StructField('certificate', StringType(), True),\n",
        "  StructField('duration', StringType(), True),\n",
        "  StructField('genre', StringType(), True),\n",
        "  StructField('rating', DoubleType(), True),\n",
        "  StructField('description', StringType(), True),\n",
        "  StructField('stars', StringType(), True),\n",
        "  StructField('votes', StringType(), True)\n",
        "\n",
        "])\n",
        "\n",
        "location = \"/content/n_movies.csv\"\n",
        "\n",
        "netflix_df = spark.read.format('csv').option('header', 'true').schema(netflixSchema).load(location)"
      ]
    },
    {
      "cell_type": "code",
      "execution_count": null,
      "metadata": {
        "id": "7MSp6IUmoZpY",
        "colab": {
          "base_uri": "https://localhost:8080/"
        },
        "outputId": "8f52a68f-9a97-4178-ebd5-70fcb113fcdd"
      },
      "outputs": [
        {
          "output_type": "stream",
          "name": "stdout",
          "text": [
            "+--------------------+-----------+-----------+--------+--------------------+------+--------------------+--------------------+---------+\n",
            "|               title|       year|certificate|duration|               genre|rating|         description|               stars|    votes|\n",
            "+--------------------+-----------+-----------+--------+--------------------+------+--------------------+--------------------+---------+\n",
            "|           Cobra Kai|   (2018– )|      TV-14|  30 min|Action, Comedy, D...|   8.5|Decades after the...|['Ralph Macchio, ...|  177,031|\n",
            "|           The Crown|   (2016– )|      TV-MA|  58 min|Biography, Drama,...|   8.7|Follows the polit...|['Claire Foy, ', ...|  199,885|\n",
            "|    Better Call Saul|(2015–2022)|      TV-MA|  46 min|        Crime, Drama|   8.9|The trials and tr...|['Bob Odenkirk, '...|  501,384|\n",
            "|       Devil in Ohio|     (2022)|      TV-MA| 356 min|Drama, Horror, My...|   5.9|When a psychiatri...|['Emily Deschanel...|    9,773|\n",
            "|Cyberpunk: Edgeru...|   (2022– )|      TV-MA|  24 min|Animation, Action...|   8.6|A Street Kid tryi...|['Zach Aguilar, '...|   15,413|\n",
            "|         The Sandman|   (2022– )|      TV-MA|  45 min|Drama, Fantasy, H...|   7.8|Upon escaping aft...|['Tom Sturridge, ...|  116,358|\n",
            "|      Rick and Morty|   (2013– )|      TV-MA|  23 min|Animation, Advent...|   9.2|An animated serie...|['Justin Roiland,...|  502,160|\n",
            "|        Breaking Bad|(2008–2013)|      TV-MA|  49 min|Crime, Drama, Thr...|   9.5|A high school che...|['Bryan Cranston,...|1,831,340|\n",
            "|      The Imperfects|   (2022– )|      TV-MA|  45 min|Action, Adventure...|   6.3|After an experime...|['Morgan Taylor C...|    3,123|\n",
            "|              Blonde|     (2022)|      NC-17| 166 min|Biography, Drama,...|   6.2|A fictionalized c...|['Andrew Dominik'...|      935|\n",
            "|     Stranger Things|   (2016– )|      TV-14|  51 min|Drama, Fantasy, H...|   8.7|When a young boy ...|['Millie Bobby Br...|1,149,889|\n",
            "|     End of the Road|(II) (2022)|          R|  89 min|Action, Crime, Drama|   4.7|In this high-octa...|['Millicent Shelt...|    5,122|\n",
            "|    The Walking Dead|(2010–2022)|      TV-MA|  44 min|Drama, Horror, Th...|   8.1|Sheriff Deputy Ri...|['Andrew Lincoln,...|  970,060|\n",
            "|Glass Onion: A Kn...|     (2022)|      PG-13| 139 min|Crime, Drama, Mys...|   8.1|Famed Southern de...|['Rian Johnson', ...|      547|\n",
            "|          Do Revenge|     (2022)|      TV-MA| 118 min|              Comedy|   6.4|Drea and Eleanor ...|['Jennifer Kaytin...|   13,457|\n",
            "|           I Came By|     (2022)|      TV-MA| 110 min|            Thriller|   6.1|Follows a young g...|['Babak Anvari', ...|   16,230|\n",
            "|            No Limit|     (2022)|      TV-MA| 118 min|Drama, Romance, S...|   5.8|Roxana Aubrey dec...|['David M. Rosent...|    1,695|\n",
            "|                1899|   (2022– )|       NULL|  60 min|Drama, History, H...|   9.6|Multinational imm...|['Ben Ashenden, '...|      853|\n",
            "|      Peaky Blinders|(2013–2022)|      TV-MA|  60 min|        Crime, Drama|   8.8|A gangster family...|['Cillian Murphy,...|  531,058|\n",
            "| Fate: The Winx Saga|   (2021– )|      TV-MA|    NULL|Action, Adventure...|   6.9|A live-action ada...|['Sadie Soverall,...|   43,179|\n",
            "+--------------------+-----------+-----------+--------+--------------------+------+--------------------+--------------------+---------+\n",
            "only showing top 20 rows\n",
            "\n"
          ]
        }
      ],
      "source": [
        "netflix_df.show(truncate=True)"
      ]
    },
    {
      "cell_type": "code",
      "execution_count": null,
      "metadata": {
        "id": "s4CX8Rny_6aH",
        "colab": {
          "base_uri": "https://localhost:8080/"
        },
        "outputId": "e79db9b0-8d82-41ee-9c87-995f341e5d91"
      },
      "outputs": [
        {
          "output_type": "stream",
          "name": "stdout",
          "text": [
            "root\n",
            " |-- title: string (nullable = true)\n",
            " |-- year: string (nullable = true)\n",
            " |-- certificate: string (nullable = true)\n",
            " |-- duration: string (nullable = true)\n",
            " |-- genre: string (nullable = true)\n",
            " |-- rating: double (nullable = true)\n",
            " |-- description: string (nullable = true)\n",
            " |-- stars: string (nullable = true)\n",
            " |-- votes: string (nullable = true)\n",
            "\n"
          ]
        }
      ],
      "source": [
        "netflix_df.printSchema()"
      ]
    },
    {
      "cell_type": "markdown",
      "metadata": {
        "id": "PUNDONXjoWpq"
      },
      "source": [
        "# Section 2: Clean the data\n",
        "\n",
        "10 points\n",
        "\n",
        "Not every dataset is going to be ready to use right away. Take steps to fix incorrect inputs, remove null values, and assign datatypes that fit each feature.\n",
        "\n",
        "### This section should include one or more of the following:\n",
        "- A count of rows before and after dropping data with null or incorrect values, including an explaination of why removing the rows was necessary in [markdown](https://www.markdownguide.org/cheat-sheet).\n",
        "- Renaming a column, adding a new one, or casting an existing one as a different datatype.\n",
        "- Remove punctuation marks, symbols, etc from the data, and convert all upper-case lettering to lower-case.\n",
        "- Remove or fix rows that have bad values/data."
      ]
    },
    {
      "cell_type": "code",
      "execution_count": null,
      "metadata": {
        "id": "DGJBHIcJE-0b",
        "colab": {
          "base_uri": "https://localhost:8080/"
        },
        "outputId": "f6395e27-785c-4fac-ffad-b1b237dc9e01"
      },
      "outputs": [
        {
          "output_type": "execute_result",
          "data": {
            "text/plain": [
              "9957"
            ]
          },
          "metadata": {},
          "execution_count": 8
        }
      ],
      "source": [
        "# Count of rows before cleaning dataset\n",
        "netflix_df.count()"
      ]
    },
    {
      "cell_type": "code",
      "execution_count": null,
      "metadata": {
        "id": "8lt6DYakE_Qc",
        "colab": {
          "base_uri": "https://localhost:8080/"
        },
        "outputId": "1587bd1c-f9ad-476e-ebd6-06cca0fe0887"
      },
      "outputs": [
        {
          "output_type": "stream",
          "name": "stdout",
          "text": [
            "root\n",
            " |-- title: string (nullable = true)\n",
            " |-- year: string (nullable = true)\n",
            " |-- certificate: string (nullable = true)\n",
            " |-- duration: string (nullable = true)\n",
            " |-- genre: string (nullable = true)\n",
            " |-- rating: double (nullable = true)\n",
            " |-- description: string (nullable = true)\n",
            " |-- stars: string (nullable = true)\n",
            " |-- votes: string (nullable = true)\n",
            "\n"
          ]
        }
      ],
      "source": [
        "netflix_df.printSchema()"
      ]
    },
    {
      "cell_type": "code",
      "execution_count": null,
      "metadata": {
        "id": "ezr4RcOKSyNs"
      },
      "outputs": [],
      "source": [
        "# Removing commas in votes column, and removing min in duration column\n",
        "from pyspark.sql.functions import regexp_replace\n",
        "netflix_df = netflix_df.withColumn('votes', regexp_replace('votes', ',', ''))\n",
        "netflix_df = netflix_df.withColumn('duration', regexp_replace('duration', 'min', ''))\n",
        "\n",
        "#Cast votes and duration col to integer\n",
        "netflix_df = netflix_df.withColumn(\"votes\", netflix_df.votes.cast(IntegerType()))\n",
        "netflix_df = netflix_df.withColumn(\"duration\", netflix_df.duration.cast(IntegerType()))"
      ]
    },
    {
      "cell_type": "code",
      "execution_count": null,
      "metadata": {
        "id": "pW4UI3mV8O-x"
      },
      "outputs": [],
      "source": [
        "from pyspark.sql.functions import lower, split, col\n",
        "\n",
        "netflix_df = netflix_df.withColumn(\"title\", lower(netflix_df[\"title\"]))\n",
        "netflix_df = netflix_df.withColumn(\"description\", lower(netflix_df[\"description\"]))\n",
        "netflix_df = netflix_df.withColumn(\"genre\", lower(netflix_df[\"genre\"]))"
      ]
    },
    {
      "cell_type": "markdown",
      "metadata": {
        "id": "BecAOrWru3fv"
      },
      "source": [
        "In the next step, we removed stars, certificate, and year, since these variables will not help us predict how popular a show or movie is."
      ]
    },
    {
      "cell_type": "code",
      "execution_count": null,
      "metadata": {
        "id": "iAd9TvbwXmkh"
      },
      "outputs": [],
      "source": [
        "# Dropping unnecessary columns (stars, certificate, year)\n",
        "netflix_df = netflix_df.drop(\"stars\", \"certificate\", \"year\")"
      ]
    },
    {
      "cell_type": "code",
      "execution_count": null,
      "metadata": {
        "id": "MkEIDGZct_tX"
      },
      "outputs": [],
      "source": [
        " #dropping duplicates\n",
        "netflix_df = netflix_df.dropDuplicates([\"title\"])"
      ]
    },
    {
      "cell_type": "code",
      "execution_count": null,
      "metadata": {
        "id": "vXNi30PFqmHO"
      },
      "outputs": [],
      "source": [
        " #dropping nulls\n",
        "netflix_df = netflix_df.na.drop(subset=[\"duration\", \"rating\"])"
      ]
    },
    {
      "cell_type": "code",
      "execution_count": null,
      "metadata": {
        "id": "CJl5c7A8E_0G",
        "colab": {
          "base_uri": "https://localhost:8080/"
        },
        "outputId": "890f79d9-16d8-4f1f-af00-eb06b7bdd34a"
      },
      "outputs": [
        {
          "output_type": "stream",
          "name": "stdout",
          "text": [
            "+------------------------------------------------+--------+--------------------------+------+-----------------------------------------------------------------------------------------------------------------------------------------------------------------------------------------------------------------------------------------------------+-----+\n",
            "|title                                           |duration|genre                     |rating|description                                                                                                                                                                                                                                          |votes|\n",
            "+------------------------------------------------+--------+--------------------------+------+-----------------------------------------------------------------------------------------------------------------------------------------------------------------------------------------------------------------------------------------------------+-----+\n",
            "|\"gabriel \"\"fluffy\"\" iglesias: one show fits all\"|90      |comedy                    |7.2   |\"gabriel \"\"fluffy\"\" iglesias discusses his teenage son                                                                                                                                                                                               |NULL |\n",
            "|\"sing \"\"yesterday\"\" for me\"                     |23      |animation, drama, romance |6.9   |a college graduate with no ambition or dreams leads a meaningless life, but the arrival of possible romantic interests may give him hope.                                                                                                            |778  |\n",
            "|#alive                                          |98      |action, drama, horror     |6.3   |the rapid spread of an unknown infection has left an entire city in ungovernable chaos, but one survivor remains alive in isolation. it is his story.                                                                                                |39285|\n",
            "|#annefrank - parallel stories                   |92      |drama, history            |6.5   |\"it is based on five women who did survive the holocaust but shared her same fate of \"\"deportation                                                                                                                                                   |NULL |\n",
            "|#blackaf                                        |36      |comedy                    |6.7   |a father takes an irreverent and honest approach to parenting and relationships.                                                                                                                                                                     |4887 |\n",
            "|#cats_the_mewvie                                |90      |documentary               |5.3   |it's a 2020 documentary about how cats went from cute text memes to iconic celebrities on youtube.                                                                                                                                                   |469  |\n",
            "|#friendbutmarried 2                             |100     |biography, comedy, drama  |6.9   |ayudia (mawar de jongh) is not satisfied enough in enjoying the moment as a wife, but she suddenly becomes pregnant. her personality changes completely and becomes lazy and super sensitive.                                                        |317  |\n",
            "|#friendsbutmarried                              |102     |biography, comedy, drama  |6.8   |ayudia (vanesha prescilla) and ditto (adipati dolken) have been best friends for 12 years. and for all those times, ditto has been secretly in love with her. until one day, ayudia told him that she's gonna get married.                           |727  |\n",
            "|#happybirthdaysense8                            |15      |short                     |9.0   |add a plot                                                                                                                                                                                                                                           |844  |\n",
            "|#realityhigh                                    |99      |comedy, drama, romance    |5.1   |high-achieving high-school senior dani barnes dreams of getting into uc davis, the world's top veterinary school. then a glamorous new friend draws her into a southern california scene that threatens everything she's worked for.                 |6432 |\n",
            "|#rucker50                                       |56      |documentary               |5.2   |add a plot                                                                                                                                                                                                                                           |123  |\n",
            "|'76                                             |118     |drama, romance            |5.6   |the story is told from two points of view: that of a young pregnant woman, and that of her husband, a soldier accused of being involved in the failed 1976 military coup and assassination of general murtala mohammed, the head-of-state of nigeria.|234  |\n",
            "|1 chance 2 dance                                |89      |drama, family             |4.6   |when a seventeen-year old aspiring dancer is uprooted mid-semester of her senior year, she finds herself in a small east coast high school where her heart will be divided between two boys, ...                see full summary »                   |579  |\n",
            "|1,000,000 yen no onnatachi                      |30      |crime, mystery, romance   |7.6   |a frustrated writer has 5 mysterious women turn up at his house, all seemingly invited and all must adhere to strict rules, they all pay him a million yen as rent. who is responsible for the invites?                                              |1867 |\n",
            "|10 000 timmar                                   |94      |comedy                    |4.4   |when he wins the lottery, an ordinary guy quits his job to pursue his dream of becoming a pro soccer player by devoting 10,000 hours to training.                                                                                                    |1070 |\n",
            "|10 days in sun city                             |87      |adventure, comedy, romance|5.2   |a globetrotting traveler, akpos, brings his girlfriend to the land of south africa in this adventure.                                                                                                                                                |73   |\n",
            "|100 days my prince                              |75      |action, comedy, history   |7.7   |upon losing his memory, a crown prince encounters a commoner's life and experiences unforgettable love as the husband to joseon's oldest bachelorette.                                                                                               |2250 |\n",
            "|100 días para enamorarnos                       |45      |comedy                    |6.7   |two couples in struggling relationships decide to give each other another chance: 100 days for them to fall back in love.                                                                                                                            |764  |\n",
            "|100 meters                                      |108     |biography, comedy, drama  |7.5   |based on true events, a spanish man with multiple sclerosis who tried to finish an iron-man competition despite he was told that he could not make 100 meters.                                                                                       |6362 |\n",
            "|100% coco                                       |88      |drama                     |5.1   |a quirky 13-year-old girl dreams of becoming a style icon and anonymously starts her own fashion vlog called the style tiger. as the vlog becomes a big hit, coco gets the chance to chase her dreams in paris.                                      |1212 |\n",
            "+------------------------------------------------+--------+--------------------------+------+-----------------------------------------------------------------------------------------------------------------------------------------------------------------------------------------------------------------------------------------------------+-----+\n",
            "only showing top 20 rows\n",
            "\n"
          ]
        }
      ],
      "source": [
        "netflix_df.show(truncate=False)"
      ]
    },
    {
      "cell_type": "markdown",
      "metadata": {
        "id": "OXq3gB5f9Kku"
      },
      "source": [
        "Display row count of Netflix dataframe after cleaning and transforming data."
      ]
    },
    {
      "cell_type": "code",
      "execution_count": null,
      "metadata": {
        "id": "WoTm9j5gtVxV",
        "colab": {
          "base_uri": "https://localhost:8080/"
        },
        "outputId": "9474a02e-7647-4915-c61f-db4517c1cc51"
      },
      "outputs": [
        {
          "output_type": "execute_result",
          "data": {
            "text/plain": [
              "6239"
            ]
          },
          "metadata": {},
          "execution_count": 16
        }
      ],
      "source": [
        "netflix_df.count()"
      ]
    },
    {
      "cell_type": "code",
      "execution_count": null,
      "metadata": {
        "id": "GrJulu87WFl8"
      },
      "outputs": [],
      "source": [
        "# used to transform rdd and filter column for unwanted spaces\n",
        "netflixdf2=netflix_df.select(\"description\")\n",
        "rddnetflix=netflixdf2.rdd.flatMap(lambda x:x)\n",
        "rddnetflix = rddnetflix.flatMap(lambda x: x.split(\" \"))\n",
        "rddnetflix = rddnetflix.filter(lambda x: x!=\"\" and x!=\"...\" and x!=\"summary\\xa0»\")\n",
        "netflixcount = rddnetflix.map(lambda word: (word, 1))\n",
        "netflixcountrbk = netflixcount.reduceByKey(lambda x,y: (x+y)).sortByKey()\n",
        "netflixcountrbk = netflixcountrbk.map(lambda x: (x[1], x[0]))"
      ]
    },
    {
      "cell_type": "code",
      "execution_count": null,
      "metadata": {
        "id": "KKz8mzAJXDr7",
        "colab": {
          "base_uri": "https://localhost:8080/"
        },
        "outputId": "a7795a9c-394e-4b44-979f-328c09a8e45b"
      },
      "outputs": [
        {
          "output_type": "stream",
          "name": "stderr",
          "text": [
            "[nltk_data] Downloading package stopwords to /root/nltk_data...\n",
            "[nltk_data]   Unzipping corpora/stopwords.zip.\n"
          ]
        }
      ],
      "source": [
        "import nltk\n",
        "nltk.download(\"stopwords\")\n",
        "from nltk.corpus import stopwords\n",
        "stopwords = stopwords.words(\"english\")\n",
        "netflixcountrbk = netflixcountrbk.filter(lambda x: x[1] not in stopwords).sortByKey(False)"
      ]
    },
    {
      "cell_type": "markdown",
      "metadata": {
        "id": "sxag0VL1BXod"
      },
      "source": [
        "Top 10 most common words used in Netflix descriptions, including count and word"
      ]
    },
    {
      "cell_type": "code",
      "execution_count": null,
      "metadata": {
        "id": "OndZFKTfUVGr",
        "colab": {
          "base_uri": "https://localhost:8080/"
        },
        "outputId": "db168e04-d21f-4ff4-c7b8-f335a4f21436"
      },
      "outputs": [
        {
          "output_type": "execute_result",
          "data": {
            "text/plain": [
              "[(620, 'see'),\n",
              " (613, 'full'),\n",
              " (490, 'new'),\n",
              " (489, 'young'),\n",
              " (468, 'life'),\n",
              " (401, 'one'),\n",
              " (392, 'two'),\n",
              " (369, 'story'),\n",
              " (339, 'world'),\n",
              " (324, 'family')]"
            ]
          },
          "metadata": {},
          "execution_count": 19
        }
      ],
      "source": [
        "netflixcountrbk.take(10)"
      ]
    },
    {
      "cell_type": "markdown",
      "metadata": {
        "id": "j6i02HBi9TT_"
      },
      "source": [
        "Creating SQL temp view so we can find out top 10 titles and bottom 10 titles"
      ]
    },
    {
      "cell_type": "code",
      "execution_count": null,
      "metadata": {
        "id": "I0gZIc8BV12t"
      },
      "outputs": [],
      "source": [
        "# Register table so we can run spark SQL queries\n",
        "netflix_df.createOrReplaceTempView(\"netflix\")"
      ]
    },
    {
      "cell_type": "code",
      "execution_count": null,
      "metadata": {
        "id": "amQ7d-z8INny"
      },
      "outputs": [],
      "source": [
        "# Convert pyspark df to pandas df for tfid vectorizer\n",
        "netflix_df_pd = netflix_df.toPandas()"
      ]
    },
    {
      "cell_type": "code",
      "execution_count": null,
      "metadata": {
        "id": "C5g2ewCCY2bp",
        "colab": {
          "base_uri": "https://localhost:8080/"
        },
        "outputId": "0cb7dd66-05a4-4c39-c47c-28b6060b34ed"
      },
      "outputs": [
        {
          "output_type": "stream",
          "name": "stdout",
          "text": [
            "+-------------------------------+--------+----------------------------+------+---------------------------------------------------------------------------------------------------------------------------------------------------------------------------------------------------------------------------------+-------+\n",
            "|title                          |duration|genre                       |rating|description                                                                                                                                                                                                                      |votes  |\n",
            "+-------------------------------+--------+----------------------------+------+---------------------------------------------------------------------------------------------------------------------------------------------------------------------------------------------------------------------------------+-------+\n",
            "|1899                           |60      |drama, history, horror      |9.6   |multinational immigrants traveling from the old continent to the new encounter a nightmarish riddle aboard a second ship adrift on the open sea.                                                                                 |853    |\n",
            "|breaking bad                   |49      |crime, drama, thriller      |9.5   |a high school chemistry teacher diagnosed with inoperable lung cancer turns to manufacturing and selling methamphetamine in order to secure his family's future.                                                                 |1831340|\n",
            "|elesin oba: the king's horseman|96      |adventure, drama, history   |9.4   |inspired by true life events, in the oyo empire in the 1940's, elesin oba, the king's chief horseman, succumbs to the lure of beauty and sexual desire on the very evening he is set to die ...                see full summary »|72     |\n",
            "|avatar: the last airbender     |23      |animation, action, adventure|9.3   |in a war-torn world of elemental magic, a young boy reawakens to undertake a dangerous mystic quest to fulfill his destiny as the avatar, and bring peace to the world.                                                          |309241 |\n",
            "|cosmos: a spacetime odyssey    |557     |documentary                 |9.3   |an exploration of our discovery of the laws of nature and coordinates in space and time.                                                                                                                                         |121400 |\n",
            "|our planet                     |403     |documentary                 |9.3   |documentary series focusing on the breadth of the diversity of habitats around the world, from the remote arctic wilderness and mysterious deep oceans to the vast landscapes of africa and diverse jungles of south america.    |43175  |\n",
            "|reply 1988                     |90      |comedy, drama, family       |9.2   |follows the lives of 5 families living on the same street in a neighbourhood called ssangmundong in seoul. it takes a nostalgic look back at the year 1988.                                                                      |7286   |\n",
            "|rick and morty                 |23      |animation, adventure, comedy|9.2   |an animated series that follows the exploits of a super scientist and his not-so-bright grandson.                                                                                                                                |502160 |\n",
            "|my mister                      |70      |drama, family               |9.1   |a man in his 40's withstands the weight of life. a woman in her 20's goes through different experiences, but also withstands the weight of her life. the man and woman get together to help each other.                          |6442   |\n",
            "|leyla and mecnun               |80      |adventure, comedy, drama    |9.1   |turkish television comedy series set in istanbul, leyla and mecnun is a surreal and absurd comedy that revolves around the fictional love story between leyla and mecnun.                                                        |93632  |\n",
            "+-------------------------------+--------+----------------------------+------+---------------------------------------------------------------------------------------------------------------------------------------------------------------------------------------------------------------------------------+-------+\n",
            "\n"
          ]
        }
      ],
      "source": [
        "# SQL query to show the top shows basd on rating\n",
        "top_10_movies = spark.sql(\"SELECT * FROM netflix ORDER BY rating DESC LIMIT 10\")\n",
        "top_10_movies.show(truncate=False)"
      ]
    },
    {
      "cell_type": "code",
      "execution_count": null,
      "metadata": {
        "id": "pJ-ttGKXU9sD",
        "colab": {
          "base_uri": "https://localhost:8080/"
        },
        "outputId": "d65c6eaf-5584-4ff8-df73-991279282bc0"
      },
      "outputs": [
        {
          "output_type": "stream",
          "name": "stdout",
          "text": [
            "+--------------------------------+--------+---------------------------+------+---------------------------------------------------------------------------------------------------------------------------------------------------------------------------------------------------------------------------------+-----+\n",
            "|title                           |duration|genre                      |rating|description                                                                                                                                                                                                                      |votes|\n",
            "+--------------------------------+--------+---------------------------+------+---------------------------------------------------------------------------------------------------------------------------------------------------------------------------------------------------------------------------------+-----+\n",
            "|defcon 2012                     |92      |sci-fi                     |1.7   |on october 30, 2009 an independent filmmaker and his cast and crew are reported missing a month before the release of their controversial film predicting the end of the world. authorities ...                see full summary »|407  |\n",
            "|hajwala: the missing engine     |96      |action, adventure, crime   |2.0   |khalid and kehailan are two team leaders who are passionate about car racing and challenges. they enter into a crazy competition to win the challenge involving a lot of surprises, which unexpectedly change both their lives.  |261  |\n",
            "|way of the vampire              |82      |action, horror, thriller   |2.0   |after defeating dracula, van helsing is granted immortality by the church to pursue and eradicate vampires from the face of the earth. his hunt leads him to a bloody showdown between his slayers and an army of demons.        |1649 |\n",
            "|the hype house                  |36      |reality-tv                 |2.1   |get an inside look at social media's least talked-about stars as they navigate love, fame and friendship while creating content and living together and pretending anyone actually cares about them.                             |2955 |\n",
            "|thomas & friends: all engines go|30      |animation, short, adventure|2.1   |all aboard, everyone. it's all engines go as thomas and his friends work hard and find time to have fun on the island of sodor.                                                                                                  |604  |\n",
            "|sean banan inuti seanfrika      |76      |comedy                     |2.2   |sean banan is heading of to africa, the world's coolest place. with him is the singing diva kikki danielsson aka kikki dee, they are going to record a music video. everything was supposed ...                see full summary »|1534 |\n",
            "|river of darkness               |105     |action, horror, thriller   |2.2   |when brutal murdering starts in a small riverside town, the sheriff must investigate and face the horrific past.                                                                                                                 |928  |\n",
            "|sinister squad                  |90      |action, comedy, fantasy    |2.2   |when a supernatural cult threatens earth, alice must assemble a team of fairy tale villains to face the literal forces of death.                                                                                                 |1117 |\n",
            "|romina                          |77      |horror, thriller           |2.3   |a shocking assault inspires horrific violence when a group of teens encounters a girl from their school while camping in a remote spot.                                                                                          |2364 |\n",
            "|he's expecting                  |23      |comedy, drama, fantasy     |2.3   |when a successful ad executive who's got it all figured out becomes pregnant, he's forced to confront social inequities he'd never considered before.                                                                            |3122 |\n",
            "+--------------------------------+--------+---------------------------+------+---------------------------------------------------------------------------------------------------------------------------------------------------------------------------------------------------------------------------------+-----+\n",
            "\n"
          ]
        }
      ],
      "source": [
        "# SQL query to show the least liked shows basd on rating\n",
        "bttm_10_movies = spark.sql(\"SELECT * FROM netflix ORDER BY rating ASC LIMIT 10\")\n",
        "bttm_10_movies.show(truncate=False)"
      ]
    },
    {
      "cell_type": "code",
      "execution_count": null,
      "metadata": {
        "id": "WPkGtjzdl7kY"
      },
      "outputs": [],
      "source": [
        "top_10_movies_pd = top_10_movies.toPandas()"
      ]
    },
    {
      "cell_type": "code",
      "execution_count": null,
      "metadata": {
        "id": "v7O0UC2ToDqW",
        "colab": {
          "base_uri": "https://localhost:8080/",
          "height": 363
        },
        "outputId": "51b3e6e1-ce87-426d-86e9-0d5134e1fdac"
      },
      "outputs": [
        {
          "output_type": "execute_result",
          "data": {
            "text/plain": [
              "                             title  duration                         genre  \\\n",
              "0                             1899        60        drama, history, horror   \n",
              "1                     breaking bad        49        crime, drama, thriller   \n",
              "2  elesin oba: the king's horseman        96     adventure, drama, history   \n",
              "3       avatar: the last airbender        23  animation, action, adventure   \n",
              "4      cosmos: a spacetime odyssey       557                   documentary   \n",
              "5                       our planet       403                   documentary   \n",
              "6                       reply 1988        90         comedy, drama, family   \n",
              "7                   rick and morty        23  animation, adventure, comedy   \n",
              "8                        my mister        70                 drama, family   \n",
              "9                 leyla and mecnun        80      adventure, comedy, drama   \n",
              "\n",
              "   rating                                        description    votes  \n",
              "0     9.6  multinational immigrants traveling from the ol...      853  \n",
              "1     9.5  a high school chemistry teacher diagnosed with...  1831340  \n",
              "2     9.4  inspired by true life events, in the oyo empir...       72  \n",
              "3     9.3  in a war-torn world of elemental magic, a youn...   309241  \n",
              "4     9.3  an exploration of our discovery of the laws of...   121400  \n",
              "5     9.3  documentary series focusing on the breadth of ...    43175  \n",
              "6     9.2  follows the lives of 5 families living on the ...     7286  \n",
              "7     9.2  an animated series that follows the exploits o...   502160  \n",
              "8     9.1  a man in his 40's withstands the weight of lif...     6442  \n",
              "9     9.1  turkish television comedy series set in istanb...    93632  "
            ],
            "text/html": [
              "\n",
              "  <div id=\"df-fdfe2622-fdaf-4ea0-842d-1adbc7b9fe7c\" class=\"colab-df-container\">\n",
              "    <div>\n",
              "<style scoped>\n",
              "    .dataframe tbody tr th:only-of-type {\n",
              "        vertical-align: middle;\n",
              "    }\n",
              "\n",
              "    .dataframe tbody tr th {\n",
              "        vertical-align: top;\n",
              "    }\n",
              "\n",
              "    .dataframe thead th {\n",
              "        text-align: right;\n",
              "    }\n",
              "</style>\n",
              "<table border=\"1\" class=\"dataframe\">\n",
              "  <thead>\n",
              "    <tr style=\"text-align: right;\">\n",
              "      <th></th>\n",
              "      <th>title</th>\n",
              "      <th>duration</th>\n",
              "      <th>genre</th>\n",
              "      <th>rating</th>\n",
              "      <th>description</th>\n",
              "      <th>votes</th>\n",
              "    </tr>\n",
              "  </thead>\n",
              "  <tbody>\n",
              "    <tr>\n",
              "      <th>0</th>\n",
              "      <td>1899</td>\n",
              "      <td>60</td>\n",
              "      <td>drama, history, horror</td>\n",
              "      <td>9.6</td>\n",
              "      <td>multinational immigrants traveling from the ol...</td>\n",
              "      <td>853</td>\n",
              "    </tr>\n",
              "    <tr>\n",
              "      <th>1</th>\n",
              "      <td>breaking bad</td>\n",
              "      <td>49</td>\n",
              "      <td>crime, drama, thriller</td>\n",
              "      <td>9.5</td>\n",
              "      <td>a high school chemistry teacher diagnosed with...</td>\n",
              "      <td>1831340</td>\n",
              "    </tr>\n",
              "    <tr>\n",
              "      <th>2</th>\n",
              "      <td>elesin oba: the king's horseman</td>\n",
              "      <td>96</td>\n",
              "      <td>adventure, drama, history</td>\n",
              "      <td>9.4</td>\n",
              "      <td>inspired by true life events, in the oyo empir...</td>\n",
              "      <td>72</td>\n",
              "    </tr>\n",
              "    <tr>\n",
              "      <th>3</th>\n",
              "      <td>avatar: the last airbender</td>\n",
              "      <td>23</td>\n",
              "      <td>animation, action, adventure</td>\n",
              "      <td>9.3</td>\n",
              "      <td>in a war-torn world of elemental magic, a youn...</td>\n",
              "      <td>309241</td>\n",
              "    </tr>\n",
              "    <tr>\n",
              "      <th>4</th>\n",
              "      <td>cosmos: a spacetime odyssey</td>\n",
              "      <td>557</td>\n",
              "      <td>documentary</td>\n",
              "      <td>9.3</td>\n",
              "      <td>an exploration of our discovery of the laws of...</td>\n",
              "      <td>121400</td>\n",
              "    </tr>\n",
              "    <tr>\n",
              "      <th>5</th>\n",
              "      <td>our planet</td>\n",
              "      <td>403</td>\n",
              "      <td>documentary</td>\n",
              "      <td>9.3</td>\n",
              "      <td>documentary series focusing on the breadth of ...</td>\n",
              "      <td>43175</td>\n",
              "    </tr>\n",
              "    <tr>\n",
              "      <th>6</th>\n",
              "      <td>reply 1988</td>\n",
              "      <td>90</td>\n",
              "      <td>comedy, drama, family</td>\n",
              "      <td>9.2</td>\n",
              "      <td>follows the lives of 5 families living on the ...</td>\n",
              "      <td>7286</td>\n",
              "    </tr>\n",
              "    <tr>\n",
              "      <th>7</th>\n",
              "      <td>rick and morty</td>\n",
              "      <td>23</td>\n",
              "      <td>animation, adventure, comedy</td>\n",
              "      <td>9.2</td>\n",
              "      <td>an animated series that follows the exploits o...</td>\n",
              "      <td>502160</td>\n",
              "    </tr>\n",
              "    <tr>\n",
              "      <th>8</th>\n",
              "      <td>my mister</td>\n",
              "      <td>70</td>\n",
              "      <td>drama, family</td>\n",
              "      <td>9.1</td>\n",
              "      <td>a man in his 40's withstands the weight of lif...</td>\n",
              "      <td>6442</td>\n",
              "    </tr>\n",
              "    <tr>\n",
              "      <th>9</th>\n",
              "      <td>leyla and mecnun</td>\n",
              "      <td>80</td>\n",
              "      <td>adventure, comedy, drama</td>\n",
              "      <td>9.1</td>\n",
              "      <td>turkish television comedy series set in istanb...</td>\n",
              "      <td>93632</td>\n",
              "    </tr>\n",
              "  </tbody>\n",
              "</table>\n",
              "</div>\n",
              "    <div class=\"colab-df-buttons\">\n",
              "\n",
              "  <div class=\"colab-df-container\">\n",
              "    <button class=\"colab-df-convert\" onclick=\"convertToInteractive('df-fdfe2622-fdaf-4ea0-842d-1adbc7b9fe7c')\"\n",
              "            title=\"Convert this dataframe to an interactive table.\"\n",
              "            style=\"display:none;\">\n",
              "\n",
              "  <svg xmlns=\"http://www.w3.org/2000/svg\" height=\"24px\" viewBox=\"0 -960 960 960\">\n",
              "    <path d=\"M120-120v-720h720v720H120Zm60-500h600v-160H180v160Zm220 220h160v-160H400v160Zm0 220h160v-160H400v160ZM180-400h160v-160H180v160Zm440 0h160v-160H620v160ZM180-180h160v-160H180v160Zm440 0h160v-160H620v160Z\"/>\n",
              "  </svg>\n",
              "    </button>\n",
              "\n",
              "  <style>\n",
              "    .colab-df-container {\n",
              "      display:flex;\n",
              "      gap: 12px;\n",
              "    }\n",
              "\n",
              "    .colab-df-convert {\n",
              "      background-color: #E8F0FE;\n",
              "      border: none;\n",
              "      border-radius: 50%;\n",
              "      cursor: pointer;\n",
              "      display: none;\n",
              "      fill: #1967D2;\n",
              "      height: 32px;\n",
              "      padding: 0 0 0 0;\n",
              "      width: 32px;\n",
              "    }\n",
              "\n",
              "    .colab-df-convert:hover {\n",
              "      background-color: #E2EBFA;\n",
              "      box-shadow: 0px 1px 2px rgba(60, 64, 67, 0.3), 0px 1px 3px 1px rgba(60, 64, 67, 0.15);\n",
              "      fill: #174EA6;\n",
              "    }\n",
              "\n",
              "    .colab-df-buttons div {\n",
              "      margin-bottom: 4px;\n",
              "    }\n",
              "\n",
              "    [theme=dark] .colab-df-convert {\n",
              "      background-color: #3B4455;\n",
              "      fill: #D2E3FC;\n",
              "    }\n",
              "\n",
              "    [theme=dark] .colab-df-convert:hover {\n",
              "      background-color: #434B5C;\n",
              "      box-shadow: 0px 1px 3px 1px rgba(0, 0, 0, 0.15);\n",
              "      filter: drop-shadow(0px 1px 2px rgba(0, 0, 0, 0.3));\n",
              "      fill: #FFFFFF;\n",
              "    }\n",
              "  </style>\n",
              "\n",
              "    <script>\n",
              "      const buttonEl =\n",
              "        document.querySelector('#df-fdfe2622-fdaf-4ea0-842d-1adbc7b9fe7c button.colab-df-convert');\n",
              "      buttonEl.style.display =\n",
              "        google.colab.kernel.accessAllowed ? 'block' : 'none';\n",
              "\n",
              "      async function convertToInteractive(key) {\n",
              "        const element = document.querySelector('#df-fdfe2622-fdaf-4ea0-842d-1adbc7b9fe7c');\n",
              "        const dataTable =\n",
              "          await google.colab.kernel.invokeFunction('convertToInteractive',\n",
              "                                                    [key], {});\n",
              "        if (!dataTable) return;\n",
              "\n",
              "        const docLinkHtml = 'Like what you see? Visit the ' +\n",
              "          '<a target=\"_blank\" href=https://colab.research.google.com/notebooks/data_table.ipynb>data table notebook</a>'\n",
              "          + ' to learn more about interactive tables.';\n",
              "        element.innerHTML = '';\n",
              "        dataTable['output_type'] = 'display_data';\n",
              "        await google.colab.output.renderOutput(dataTable, element);\n",
              "        const docLink = document.createElement('div');\n",
              "        docLink.innerHTML = docLinkHtml;\n",
              "        element.appendChild(docLink);\n",
              "      }\n",
              "    </script>\n",
              "  </div>\n",
              "\n",
              "\n",
              "<div id=\"df-797dd64f-680f-4ae2-a39c-d31703ab12f7\">\n",
              "  <button class=\"colab-df-quickchart\" onclick=\"quickchart('df-797dd64f-680f-4ae2-a39c-d31703ab12f7')\"\n",
              "            title=\"Suggest charts\"\n",
              "            style=\"display:none;\">\n",
              "\n",
              "<svg xmlns=\"http://www.w3.org/2000/svg\" height=\"24px\"viewBox=\"0 0 24 24\"\n",
              "     width=\"24px\">\n",
              "    <g>\n",
              "        <path d=\"M19 3H5c-1.1 0-2 .9-2 2v14c0 1.1.9 2 2 2h14c1.1 0 2-.9 2-2V5c0-1.1-.9-2-2-2zM9 17H7v-7h2v7zm4 0h-2V7h2v10zm4 0h-2v-4h2v4z\"/>\n",
              "    </g>\n",
              "</svg>\n",
              "  </button>\n",
              "\n",
              "<style>\n",
              "  .colab-df-quickchart {\n",
              "      --bg-color: #E8F0FE;\n",
              "      --fill-color: #1967D2;\n",
              "      --hover-bg-color: #E2EBFA;\n",
              "      --hover-fill-color: #174EA6;\n",
              "      --disabled-fill-color: #AAA;\n",
              "      --disabled-bg-color: #DDD;\n",
              "  }\n",
              "\n",
              "  [theme=dark] .colab-df-quickchart {\n",
              "      --bg-color: #3B4455;\n",
              "      --fill-color: #D2E3FC;\n",
              "      --hover-bg-color: #434B5C;\n",
              "      --hover-fill-color: #FFFFFF;\n",
              "      --disabled-bg-color: #3B4455;\n",
              "      --disabled-fill-color: #666;\n",
              "  }\n",
              "\n",
              "  .colab-df-quickchart {\n",
              "    background-color: var(--bg-color);\n",
              "    border: none;\n",
              "    border-radius: 50%;\n",
              "    cursor: pointer;\n",
              "    display: none;\n",
              "    fill: var(--fill-color);\n",
              "    height: 32px;\n",
              "    padding: 0;\n",
              "    width: 32px;\n",
              "  }\n",
              "\n",
              "  .colab-df-quickchart:hover {\n",
              "    background-color: var(--hover-bg-color);\n",
              "    box-shadow: 0 1px 2px rgba(60, 64, 67, 0.3), 0 1px 3px 1px rgba(60, 64, 67, 0.15);\n",
              "    fill: var(--button-hover-fill-color);\n",
              "  }\n",
              "\n",
              "  .colab-df-quickchart-complete:disabled,\n",
              "  .colab-df-quickchart-complete:disabled:hover {\n",
              "    background-color: var(--disabled-bg-color);\n",
              "    fill: var(--disabled-fill-color);\n",
              "    box-shadow: none;\n",
              "  }\n",
              "\n",
              "  .colab-df-spinner {\n",
              "    border: 2px solid var(--fill-color);\n",
              "    border-color: transparent;\n",
              "    border-bottom-color: var(--fill-color);\n",
              "    animation:\n",
              "      spin 1s steps(1) infinite;\n",
              "  }\n",
              "\n",
              "  @keyframes spin {\n",
              "    0% {\n",
              "      border-color: transparent;\n",
              "      border-bottom-color: var(--fill-color);\n",
              "      border-left-color: var(--fill-color);\n",
              "    }\n",
              "    20% {\n",
              "      border-color: transparent;\n",
              "      border-left-color: var(--fill-color);\n",
              "      border-top-color: var(--fill-color);\n",
              "    }\n",
              "    30% {\n",
              "      border-color: transparent;\n",
              "      border-left-color: var(--fill-color);\n",
              "      border-top-color: var(--fill-color);\n",
              "      border-right-color: var(--fill-color);\n",
              "    }\n",
              "    40% {\n",
              "      border-color: transparent;\n",
              "      border-right-color: var(--fill-color);\n",
              "      border-top-color: var(--fill-color);\n",
              "    }\n",
              "    60% {\n",
              "      border-color: transparent;\n",
              "      border-right-color: var(--fill-color);\n",
              "    }\n",
              "    80% {\n",
              "      border-color: transparent;\n",
              "      border-right-color: var(--fill-color);\n",
              "      border-bottom-color: var(--fill-color);\n",
              "    }\n",
              "    90% {\n",
              "      border-color: transparent;\n",
              "      border-bottom-color: var(--fill-color);\n",
              "    }\n",
              "  }\n",
              "</style>\n",
              "\n",
              "  <script>\n",
              "    async function quickchart(key) {\n",
              "      const quickchartButtonEl =\n",
              "        document.querySelector('#' + key + ' button');\n",
              "      quickchartButtonEl.disabled = true;  // To prevent multiple clicks.\n",
              "      quickchartButtonEl.classList.add('colab-df-spinner');\n",
              "      try {\n",
              "        const charts = await google.colab.kernel.invokeFunction(\n",
              "            'suggestCharts', [key], {});\n",
              "      } catch (error) {\n",
              "        console.error('Error during call to suggestCharts:', error);\n",
              "      }\n",
              "      quickchartButtonEl.classList.remove('colab-df-spinner');\n",
              "      quickchartButtonEl.classList.add('colab-df-quickchart-complete');\n",
              "    }\n",
              "    (() => {\n",
              "      let quickchartButtonEl =\n",
              "        document.querySelector('#df-797dd64f-680f-4ae2-a39c-d31703ab12f7 button');\n",
              "      quickchartButtonEl.style.display =\n",
              "        google.colab.kernel.accessAllowed ? 'block' : 'none';\n",
              "    })();\n",
              "  </script>\n",
              "</div>\n",
              "\n",
              "    </div>\n",
              "  </div>\n"
            ],
            "application/vnd.google.colaboratory.intrinsic+json": {
              "type": "dataframe",
              "variable_name": "top_10_movies_pd",
              "summary": "{\n  \"name\": \"top_10_movies_pd\",\n  \"rows\": 10,\n  \"fields\": [\n    {\n      \"column\": \"title\",\n      \"properties\": {\n        \"dtype\": \"string\",\n        \"num_unique_values\": 10,\n        \"samples\": [\n          \"my mister\",\n          \"breaking bad\",\n          \"our planet\"\n        ],\n        \"semantic_type\": \"\",\n        \"description\": \"\"\n      }\n    },\n    {\n      \"column\": \"duration\",\n      \"properties\": {\n        \"dtype\": \"int32\",\n        \"num_unique_values\": 9,\n        \"samples\": [\n          70,\n          49,\n          403\n        ],\n        \"semantic_type\": \"\",\n        \"description\": \"\"\n      }\n    },\n    {\n      \"column\": \"genre\",\n      \"properties\": {\n        \"dtype\": \"string\",\n        \"num_unique_values\": 9,\n        \"samples\": [\n          \"drama, family\",\n          \"crime, drama, thriller\",\n          \"comedy, drama, family\"\n        ],\n        \"semantic_type\": \"\",\n        \"description\": \"\"\n      }\n    },\n    {\n      \"column\": \"rating\",\n      \"properties\": {\n        \"dtype\": \"number\",\n        \"std\": 0.16329931618554536,\n        \"min\": 9.1,\n        \"max\": 9.6,\n        \"num_unique_values\": 6,\n        \"samples\": [\n          9.6,\n          9.5,\n          9.1\n        ],\n        \"semantic_type\": \"\",\n        \"description\": \"\"\n      }\n    },\n    {\n      \"column\": \"description\",\n      \"properties\": {\n        \"dtype\": \"string\",\n        \"num_unique_values\": 10,\n        \"samples\": [\n          \"a man in his 40's withstands the weight of life. a woman in her 20's goes through different experiences, but also withstands the weight of her life. the man and woman get together to help each other.\",\n          \"a high school chemistry teacher diagnosed with inoperable lung cancer turns to manufacturing and selling methamphetamine in order to secure his family's future.\",\n          \"documentary series focusing on the breadth of the diversity of habitats around the world, from the remote arctic wilderness and mysterious deep oceans to the vast landscapes of africa and diverse jungles of south america.\"\n        ],\n        \"semantic_type\": \"\",\n        \"description\": \"\"\n      }\n    },\n    {\n      \"column\": \"votes\",\n      \"properties\": {\n        \"dtype\": \"int32\",\n        \"num_unique_values\": 10,\n        \"samples\": [\n          6442,\n          1831340,\n          43175\n        ],\n        \"semantic_type\": \"\",\n        \"description\": \"\"\n      }\n    }\n  ]\n}"
            }
          },
          "metadata": {},
          "execution_count": 25
        }
      ],
      "source": [
        "top_10_movies_pd.head(10)"
      ]
    },
    {
      "cell_type": "code",
      "execution_count": null,
      "metadata": {
        "id": "OWrEeQ69sl9c",
        "colab": {
          "base_uri": "https://localhost:8080/",
          "height": 206
        },
        "outputId": "7d330d04-5565-4746-edd7-34c4f4434917"
      },
      "outputs": [
        {
          "output_type": "execute_result",
          "data": {
            "text/plain": [
              "                              title  duration                        genre  \\\n",
              "0                       defcon 2012        92                       sci-fi   \n",
              "1       hajwala: the missing engine        96     action, adventure, crime   \n",
              "2                way of the vampire        82     action, horror, thriller   \n",
              "3                    the hype house        36                   reality-tv   \n",
              "4  thomas & friends: all engines go        30  animation, short, adventure   \n",
              "\n",
              "   rating                                        description  votes  \n",
              "0     1.7  on october 30, 2009 an independent filmmaker a...    407  \n",
              "1     2.0  khalid and kehailan are two team leaders who a...    261  \n",
              "2     2.0  after defeating dracula, van helsing is grante...   1649  \n",
              "3     2.1  get an inside look at social media's least tal...   2955  \n",
              "4     2.1  all aboard, everyone. it's all engines go as t...    604  "
            ],
            "text/html": [
              "\n",
              "  <div id=\"df-90aafa43-4300-4a4c-a625-8e7f82e5826e\" class=\"colab-df-container\">\n",
              "    <div>\n",
              "<style scoped>\n",
              "    .dataframe tbody tr th:only-of-type {\n",
              "        vertical-align: middle;\n",
              "    }\n",
              "\n",
              "    .dataframe tbody tr th {\n",
              "        vertical-align: top;\n",
              "    }\n",
              "\n",
              "    .dataframe thead th {\n",
              "        text-align: right;\n",
              "    }\n",
              "</style>\n",
              "<table border=\"1\" class=\"dataframe\">\n",
              "  <thead>\n",
              "    <tr style=\"text-align: right;\">\n",
              "      <th></th>\n",
              "      <th>title</th>\n",
              "      <th>duration</th>\n",
              "      <th>genre</th>\n",
              "      <th>rating</th>\n",
              "      <th>description</th>\n",
              "      <th>votes</th>\n",
              "    </tr>\n",
              "  </thead>\n",
              "  <tbody>\n",
              "    <tr>\n",
              "      <th>0</th>\n",
              "      <td>defcon 2012</td>\n",
              "      <td>92</td>\n",
              "      <td>sci-fi</td>\n",
              "      <td>1.7</td>\n",
              "      <td>on october 30, 2009 an independent filmmaker a...</td>\n",
              "      <td>407</td>\n",
              "    </tr>\n",
              "    <tr>\n",
              "      <th>1</th>\n",
              "      <td>hajwala: the missing engine</td>\n",
              "      <td>96</td>\n",
              "      <td>action, adventure, crime</td>\n",
              "      <td>2.0</td>\n",
              "      <td>khalid and kehailan are two team leaders who a...</td>\n",
              "      <td>261</td>\n",
              "    </tr>\n",
              "    <tr>\n",
              "      <th>2</th>\n",
              "      <td>way of the vampire</td>\n",
              "      <td>82</td>\n",
              "      <td>action, horror, thriller</td>\n",
              "      <td>2.0</td>\n",
              "      <td>after defeating dracula, van helsing is grante...</td>\n",
              "      <td>1649</td>\n",
              "    </tr>\n",
              "    <tr>\n",
              "      <th>3</th>\n",
              "      <td>the hype house</td>\n",
              "      <td>36</td>\n",
              "      <td>reality-tv</td>\n",
              "      <td>2.1</td>\n",
              "      <td>get an inside look at social media's least tal...</td>\n",
              "      <td>2955</td>\n",
              "    </tr>\n",
              "    <tr>\n",
              "      <th>4</th>\n",
              "      <td>thomas &amp; friends: all engines go</td>\n",
              "      <td>30</td>\n",
              "      <td>animation, short, adventure</td>\n",
              "      <td>2.1</td>\n",
              "      <td>all aboard, everyone. it's all engines go as t...</td>\n",
              "      <td>604</td>\n",
              "    </tr>\n",
              "  </tbody>\n",
              "</table>\n",
              "</div>\n",
              "    <div class=\"colab-df-buttons\">\n",
              "\n",
              "  <div class=\"colab-df-container\">\n",
              "    <button class=\"colab-df-convert\" onclick=\"convertToInteractive('df-90aafa43-4300-4a4c-a625-8e7f82e5826e')\"\n",
              "            title=\"Convert this dataframe to an interactive table.\"\n",
              "            style=\"display:none;\">\n",
              "\n",
              "  <svg xmlns=\"http://www.w3.org/2000/svg\" height=\"24px\" viewBox=\"0 -960 960 960\">\n",
              "    <path d=\"M120-120v-720h720v720H120Zm60-500h600v-160H180v160Zm220 220h160v-160H400v160Zm0 220h160v-160H400v160ZM180-400h160v-160H180v160Zm440 0h160v-160H620v160ZM180-180h160v-160H180v160Zm440 0h160v-160H620v160Z\"/>\n",
              "  </svg>\n",
              "    </button>\n",
              "\n",
              "  <style>\n",
              "    .colab-df-container {\n",
              "      display:flex;\n",
              "      gap: 12px;\n",
              "    }\n",
              "\n",
              "    .colab-df-convert {\n",
              "      background-color: #E8F0FE;\n",
              "      border: none;\n",
              "      border-radius: 50%;\n",
              "      cursor: pointer;\n",
              "      display: none;\n",
              "      fill: #1967D2;\n",
              "      height: 32px;\n",
              "      padding: 0 0 0 0;\n",
              "      width: 32px;\n",
              "    }\n",
              "\n",
              "    .colab-df-convert:hover {\n",
              "      background-color: #E2EBFA;\n",
              "      box-shadow: 0px 1px 2px rgba(60, 64, 67, 0.3), 0px 1px 3px 1px rgba(60, 64, 67, 0.15);\n",
              "      fill: #174EA6;\n",
              "    }\n",
              "\n",
              "    .colab-df-buttons div {\n",
              "      margin-bottom: 4px;\n",
              "    }\n",
              "\n",
              "    [theme=dark] .colab-df-convert {\n",
              "      background-color: #3B4455;\n",
              "      fill: #D2E3FC;\n",
              "    }\n",
              "\n",
              "    [theme=dark] .colab-df-convert:hover {\n",
              "      background-color: #434B5C;\n",
              "      box-shadow: 0px 1px 3px 1px rgba(0, 0, 0, 0.15);\n",
              "      filter: drop-shadow(0px 1px 2px rgba(0, 0, 0, 0.3));\n",
              "      fill: #FFFFFF;\n",
              "    }\n",
              "  </style>\n",
              "\n",
              "    <script>\n",
              "      const buttonEl =\n",
              "        document.querySelector('#df-90aafa43-4300-4a4c-a625-8e7f82e5826e button.colab-df-convert');\n",
              "      buttonEl.style.display =\n",
              "        google.colab.kernel.accessAllowed ? 'block' : 'none';\n",
              "\n",
              "      async function convertToInteractive(key) {\n",
              "        const element = document.querySelector('#df-90aafa43-4300-4a4c-a625-8e7f82e5826e');\n",
              "        const dataTable =\n",
              "          await google.colab.kernel.invokeFunction('convertToInteractive',\n",
              "                                                    [key], {});\n",
              "        if (!dataTable) return;\n",
              "\n",
              "        const docLinkHtml = 'Like what you see? Visit the ' +\n",
              "          '<a target=\"_blank\" href=https://colab.research.google.com/notebooks/data_table.ipynb>data table notebook</a>'\n",
              "          + ' to learn more about interactive tables.';\n",
              "        element.innerHTML = '';\n",
              "        dataTable['output_type'] = 'display_data';\n",
              "        await google.colab.output.renderOutput(dataTable, element);\n",
              "        const docLink = document.createElement('div');\n",
              "        docLink.innerHTML = docLinkHtml;\n",
              "        element.appendChild(docLink);\n",
              "      }\n",
              "    </script>\n",
              "  </div>\n",
              "\n",
              "\n",
              "<div id=\"df-114e63df-5696-4cf7-a441-b6e42b179f07\">\n",
              "  <button class=\"colab-df-quickchart\" onclick=\"quickchart('df-114e63df-5696-4cf7-a441-b6e42b179f07')\"\n",
              "            title=\"Suggest charts\"\n",
              "            style=\"display:none;\">\n",
              "\n",
              "<svg xmlns=\"http://www.w3.org/2000/svg\" height=\"24px\"viewBox=\"0 0 24 24\"\n",
              "     width=\"24px\">\n",
              "    <g>\n",
              "        <path d=\"M19 3H5c-1.1 0-2 .9-2 2v14c0 1.1.9 2 2 2h14c1.1 0 2-.9 2-2V5c0-1.1-.9-2-2-2zM9 17H7v-7h2v7zm4 0h-2V7h2v10zm4 0h-2v-4h2v4z\"/>\n",
              "    </g>\n",
              "</svg>\n",
              "  </button>\n",
              "\n",
              "<style>\n",
              "  .colab-df-quickchart {\n",
              "      --bg-color: #E8F0FE;\n",
              "      --fill-color: #1967D2;\n",
              "      --hover-bg-color: #E2EBFA;\n",
              "      --hover-fill-color: #174EA6;\n",
              "      --disabled-fill-color: #AAA;\n",
              "      --disabled-bg-color: #DDD;\n",
              "  }\n",
              "\n",
              "  [theme=dark] .colab-df-quickchart {\n",
              "      --bg-color: #3B4455;\n",
              "      --fill-color: #D2E3FC;\n",
              "      --hover-bg-color: #434B5C;\n",
              "      --hover-fill-color: #FFFFFF;\n",
              "      --disabled-bg-color: #3B4455;\n",
              "      --disabled-fill-color: #666;\n",
              "  }\n",
              "\n",
              "  .colab-df-quickchart {\n",
              "    background-color: var(--bg-color);\n",
              "    border: none;\n",
              "    border-radius: 50%;\n",
              "    cursor: pointer;\n",
              "    display: none;\n",
              "    fill: var(--fill-color);\n",
              "    height: 32px;\n",
              "    padding: 0;\n",
              "    width: 32px;\n",
              "  }\n",
              "\n",
              "  .colab-df-quickchart:hover {\n",
              "    background-color: var(--hover-bg-color);\n",
              "    box-shadow: 0 1px 2px rgba(60, 64, 67, 0.3), 0 1px 3px 1px rgba(60, 64, 67, 0.15);\n",
              "    fill: var(--button-hover-fill-color);\n",
              "  }\n",
              "\n",
              "  .colab-df-quickchart-complete:disabled,\n",
              "  .colab-df-quickchart-complete:disabled:hover {\n",
              "    background-color: var(--disabled-bg-color);\n",
              "    fill: var(--disabled-fill-color);\n",
              "    box-shadow: none;\n",
              "  }\n",
              "\n",
              "  .colab-df-spinner {\n",
              "    border: 2px solid var(--fill-color);\n",
              "    border-color: transparent;\n",
              "    border-bottom-color: var(--fill-color);\n",
              "    animation:\n",
              "      spin 1s steps(1) infinite;\n",
              "  }\n",
              "\n",
              "  @keyframes spin {\n",
              "    0% {\n",
              "      border-color: transparent;\n",
              "      border-bottom-color: var(--fill-color);\n",
              "      border-left-color: var(--fill-color);\n",
              "    }\n",
              "    20% {\n",
              "      border-color: transparent;\n",
              "      border-left-color: var(--fill-color);\n",
              "      border-top-color: var(--fill-color);\n",
              "    }\n",
              "    30% {\n",
              "      border-color: transparent;\n",
              "      border-left-color: var(--fill-color);\n",
              "      border-top-color: var(--fill-color);\n",
              "      border-right-color: var(--fill-color);\n",
              "    }\n",
              "    40% {\n",
              "      border-color: transparent;\n",
              "      border-right-color: var(--fill-color);\n",
              "      border-top-color: var(--fill-color);\n",
              "    }\n",
              "    60% {\n",
              "      border-color: transparent;\n",
              "      border-right-color: var(--fill-color);\n",
              "    }\n",
              "    80% {\n",
              "      border-color: transparent;\n",
              "      border-right-color: var(--fill-color);\n",
              "      border-bottom-color: var(--fill-color);\n",
              "    }\n",
              "    90% {\n",
              "      border-color: transparent;\n",
              "      border-bottom-color: var(--fill-color);\n",
              "    }\n",
              "  }\n",
              "</style>\n",
              "\n",
              "  <script>\n",
              "    async function quickchart(key) {\n",
              "      const quickchartButtonEl =\n",
              "        document.querySelector('#' + key + ' button');\n",
              "      quickchartButtonEl.disabled = true;  // To prevent multiple clicks.\n",
              "      quickchartButtonEl.classList.add('colab-df-spinner');\n",
              "      try {\n",
              "        const charts = await google.colab.kernel.invokeFunction(\n",
              "            'suggestCharts', [key], {});\n",
              "      } catch (error) {\n",
              "        console.error('Error during call to suggestCharts:', error);\n",
              "      }\n",
              "      quickchartButtonEl.classList.remove('colab-df-spinner');\n",
              "      quickchartButtonEl.classList.add('colab-df-quickchart-complete');\n",
              "    }\n",
              "    (() => {\n",
              "      let quickchartButtonEl =\n",
              "        document.querySelector('#df-114e63df-5696-4cf7-a441-b6e42b179f07 button');\n",
              "      quickchartButtonEl.style.display =\n",
              "        google.colab.kernel.accessAllowed ? 'block' : 'none';\n",
              "    })();\n",
              "  </script>\n",
              "</div>\n",
              "\n",
              "    </div>\n",
              "  </div>\n"
            ],
            "application/vnd.google.colaboratory.intrinsic+json": {
              "type": "dataframe",
              "variable_name": "bttm_10_movies_pd",
              "summary": "{\n  \"name\": \"bttm_10_movies_pd\",\n  \"rows\": 10,\n  \"fields\": [\n    {\n      \"column\": \"title\",\n      \"properties\": {\n        \"dtype\": \"string\",\n        \"num_unique_values\": 10,\n        \"samples\": [\n          \"romina\",\n          \"hajwala: the missing engine\",\n          \"sean banan inuti seanfrika\"\n        ],\n        \"semantic_type\": \"\",\n        \"description\": \"\"\n      }\n    },\n    {\n      \"column\": \"duration\",\n      \"properties\": {\n        \"dtype\": \"int32\",\n        \"num_unique_values\": 10,\n        \"samples\": [\n          77,\n          96,\n          76\n        ],\n        \"semantic_type\": \"\",\n        \"description\": \"\"\n      }\n    },\n    {\n      \"column\": \"genre\",\n      \"properties\": {\n        \"dtype\": \"string\",\n        \"num_unique_values\": 9,\n        \"samples\": [\n          \"horror, thriller\",\n          \"action, adventure, crime\",\n          \"comedy\"\n        ],\n        \"semantic_type\": \"\",\n        \"description\": \"\"\n      }\n    },\n    {\n      \"column\": \"rating\",\n      \"properties\": {\n        \"dtype\": \"number\",\n        \"std\": 0.17919573407620817,\n        \"min\": 1.7,\n        \"max\": 2.3,\n        \"num_unique_values\": 5,\n        \"samples\": [\n          2.0,\n          2.3,\n          2.1\n        ],\n        \"semantic_type\": \"\",\n        \"description\": \"\"\n      }\n    },\n    {\n      \"column\": \"description\",\n      \"properties\": {\n        \"dtype\": \"string\",\n        \"num_unique_values\": 10,\n        \"samples\": [\n          \"a shocking assault inspires horrific violence when a group of teens encounters a girl from their school while camping in a remote spot.\",\n          \"khalid and kehailan are two team leaders who are passionate about car racing and challenges. they enter into a crazy competition to win the challenge involving a lot of surprises, which unexpectedly change both their lives.\",\n          \"sean banan is heading of to africa, the world's coolest place. with him is the singing diva kikki danielsson aka kikki dee, they are going to record a music video. everything was supposed ...                see full summary\\u00a0\\u00bb\"\n        ],\n        \"semantic_type\": \"\",\n        \"description\": \"\"\n      }\n    },\n    {\n      \"column\": \"votes\",\n      \"properties\": {\n        \"dtype\": \"int32\",\n        \"num_unique_values\": 10,\n        \"samples\": [\n          2364,\n          261,\n          1534\n        ],\n        \"semantic_type\": \"\",\n        \"description\": \"\"\n      }\n    }\n  ]\n}"
            }
          },
          "metadata": {},
          "execution_count": 26
        }
      ],
      "source": [
        "bttm_10_movies_pd = bttm_10_movies.toPandas()\n",
        "bttm_10_movies_pd.head()"
      ]
    },
    {
      "cell_type": "code",
      "execution_count": null,
      "metadata": {
        "id": "T_aOBI4rIXI5",
        "colab": {
          "base_uri": "https://localhost:8080/",
          "height": 470
        },
        "outputId": "446d1520-5546-43f1-fb31-cd34b07c522f"
      },
      "outputs": [
        {
          "output_type": "execute_result",
          "data": {
            "text/plain": [
              "array([[<Axes: title={'center': 'rating'}>]], dtype=object)"
            ]
          },
          "metadata": {},
          "execution_count": 27
        },
        {
          "output_type": "display_data",
          "data": {
            "text/plain": [
              "<Figure size 640x480 with 1 Axes>"
            ],
            "image/png": "[encoded data removed]"
          },
          "metadata": {}
        }
      ],
      "source": [
        "netflix_df_pd.hist('rating')"
      ]
    },
    {
      "cell_type": "markdown",
      "metadata": {
        "id": "g2_xG9RxCzSZ"
      },
      "source": [
        "From this histogram, we can see that the rating variable has a slightly left skewed distribution."
      ]
    },
    {
      "cell_type": "code",
      "execution_count": null,
      "metadata": {
        "id": "bupaNNqHIZOR",
        "colab": {
          "base_uri": "https://localhost:8080/",
          "height": 470
        },
        "outputId": "cd083a72-14ae-46bc-bc17-0a435f8db223"
      },
      "outputs": [
        {
          "output_type": "execute_result",
          "data": {
            "text/plain": [
              "array([[<Axes: title={'center': 'duration'}>]], dtype=object)"
            ]
          },
          "metadata": {},
          "execution_count": 28
        },
        {
          "output_type": "display_data",
          "data": {
            "text/plain": [
              "<Figure size 640x480 with 1 Axes>"
            ],
            "image/png": "[encoded data removed]"
          },
          "metadata": {}
        }
      ],
      "source": [
        "netflix_df_pd.hist('duration')"
      ]
    },
    {
      "cell_type": "markdown",
      "metadata": {
        "id": "Md9KJQotDUkC"
      },
      "source": [
        "For the duration variable histogram, we can observe that most of the catalog falls between 0 and 200 minutes."
      ]
    },
    {
      "cell_type": "code",
      "execution_count": null,
      "metadata": {
        "id": "_aEoJYoiX3bQ",
        "colab": {
          "base_uri": "https://localhost:8080/",
          "height": 417
        },
        "outputId": "17fdcd73-f843-491d-9248-738ec12f1151"
      },
      "outputs": [
        {
          "output_type": "display_data",
          "data": {
            "text/html": [
              "<html>\n",
              "<head><meta charset=\"utf-8\" /></head>\n",
              "<body>\n",
              "    <div>            <script src=\"https://cdnjs.cloudflare.com/ajax/libs/mathjax/2.7.5/MathJax.js?config=TeX-AMS-MML_SVG\"></script><script type=\"text/javascript\">if (window.MathJax && window.MathJax.Hub && window.MathJax.Hub.Config) {window.MathJax.Hub.Config({SVG: {font: \"STIX-Web\"}});}</script>                <script type=\"text/javascript\">window.PlotlyConfig = {MathJaxConfig: 'local'};</script>\n",
              "        <script charset=\"utf-8\" src=\"https://cdn.plot.ly/plotly-2.24.1.min.js\"></script>                <div id=\"a13a9e86-b730-4a75-a0ec-02d0ecde5be7\" class=\"plotly-graph-div\" style=\"height:400px; width:100%;\"></div>            <script type=\"text/javascript\">                                    window.PLOTLYENV=window.PLOTLYENV || {};                                    if (document.getElementById(\"a13a9e86-b730-4a75-a0ec-02d0ecde5be7\")) {                    Plotly.newPlot(                        \"a13a9e86-b730-4a75-a0ec-02d0ecde5be7\",                        [{\"alignmentgroup\":\"True\",\"hovertemplate\":\"Film Title=%{x}\\u003cbr\\u003eRating=%{y}\\u003cbr\\u003ecolor=%{marker.color}\\u003cextra\\u003e\\u003c\\u002fextra\\u003e\",\"legendgroup\":\"\",\"marker\":{\"color\":[9.6,9.5,9.4,9.3,9.3,9.3,9.2,9.2,9.1,9.1],\"coloraxis\":\"coloraxis\",\"pattern\":{\"shape\":\"\"}},\"name\":\"\",\"offsetgroup\":\"\",\"orientation\":\"v\",\"showlegend\":false,\"textposition\":\"auto\",\"x\":[\"1899\",\"breaking bad\",\"elesin oba: the king's horseman\",\"avatar: the last airbender\",\"cosmos: a spacetime odyssey\",\"our planet\",\"reply 1988\",\"rick and morty\",\"my mister\",\"leyla and mecnun\"],\"xaxis\":\"x\",\"y\":[9.6,9.5,9.4,9.3,9.3,9.3,9.2,9.2,9.1,9.1],\"yaxis\":\"y\",\"type\":\"bar\"}],                        {\"template\":{\"data\":{\"histogram2dcontour\":[{\"type\":\"histogram2dcontour\",\"colorbar\":{\"outlinewidth\":0,\"ticks\":\"\"},\"colorscale\":[[0.0,\"#0d0887\"],[0.1111111111111111,\"#46039f\"],[0.2222222222222222,\"#7201a8\"],[0.3333333333333333,\"#9c179e\"],[0.4444444444444444,\"#bd3786\"],[0.5555555555555556,\"#d8576b\"],[0.6666666666666666,\"#ed7953\"],[0.7777777777777778,\"#fb9f3a\"],[0.8888888888888888,\"#fdca26\"],[1.0,\"#f0f921\"]]}],\"choropleth\":[{\"type\":\"choropleth\",\"colorbar\":{\"outlinewidth\":0,\"ticks\":\"\"}}],\"histogram2d\":[{\"type\":\"histogram2d\",\"colorbar\":{\"outlinewidth\":0,\"ticks\":\"\"},\"colorscale\":[[0.0,\"#0d0887\"],[0.1111111111111111,\"#46039f\"],[0.2222222222222222,\"#7201a8\"],[0.3333333333333333,\"#9c179e\"],[0.4444444444444444,\"#bd3786\"],[0.5555555555555556,\"#d8576b\"],[0.6666666666666666,\"#ed7953\"],[0.7777777777777778,\"#fb9f3a\"],[0.8888888888888888,\"#fdca26\"],[1.0,\"#f0f921\"]]}],\"heatmap\":[{\"type\":\"heatmap\",\"colorbar\":{\"outlinewidth\":0,\"ticks\":\"\"},\"colorscale\":[[0.0,\"#0d0887\"],[0.1111111111111111,\"#46039f\"],[0.2222222222222222,\"#7201a8\"],[0.3333333333333333,\"#9c179e\"],[0.4444444444444444,\"#bd3786\"],[0.5555555555555556,\"#d8576b\"],[0.6666666666666666,\"#ed7953\"],[0.7777777777777778,\"#fb9f3a\"],[0.8888888888888888,\"#fdca26\"],[1.0,\"#f0f921\"]]}],\"heatmapgl\":[{\"type\":\"heatmapgl\",\"colorbar\":{\"outlinewidth\":0,\"ticks\":\"\"},\"colorscale\":[[0.0,\"#0d0887\"],[0.1111111111111111,\"#46039f\"],[0.2222222222222222,\"#7201a8\"],[0.3333333333333333,\"#9c179e\"],[0.4444444444444444,\"#bd3786\"],[0.5555555555555556,\"#d8576b\"],[0.6666666666666666,\"#ed7953\"],[0.7777777777777778,\"#fb9f3a\"],[0.8888888888888888,\"#fdca26\"],[1.0,\"#f0f921\"]]}],\"contourcarpet\":[{\"type\":\"contourcarpet\",\"colorbar\":{\"outlinewidth\":0,\"ticks\":\"\"}}],\"contour\":[{\"type\":\"contour\",\"colorbar\":{\"outlinewidth\":0,\"ticks\":\"\"},\"colorscale\":[[0.0,\"#0d0887\"],[0.1111111111111111,\"#46039f\"],[0.2222222222222222,\"#7201a8\"],[0.3333333333333333,\"#9c179e\"],[0.4444444444444444,\"#bd3786\"],[0.5555555555555556,\"#d8576b\"],[0.6666666666666666,\"#ed7953\"],[0.7777777777777778,\"#fb9f3a\"],[0.8888888888888888,\"#fdca26\"],[1.0,\"#f0f921\"]]}],\"surface\":[{\"type\":\"surface\",\"colorbar\":{\"outlinewidth\":0,\"ticks\":\"\"},\"colorscale\":[[0.0,\"#0d0887\"],[0.1111111111111111,\"#46039f\"],[0.2222222222222222,\"#7201a8\"],[0.3333333333333333,\"#9c179e\"],[0.4444444444444444,\"#bd3786\"],[0.5555555555555556,\"#d8576b\"],[0.6666666666666666,\"#ed7953\"],[0.7777777777777778,\"#fb9f3a\"],[0.8888888888888888,\"#fdca26\"],[1.0,\"#f0f921\"]]}],\"mesh3d\":[{\"type\":\"mesh3d\",\"colorbar\":{\"outlinewidth\":0,\"ticks\":\"\"}}],\"scatter\":[{\"fillpattern\":{\"fillmode\":\"overlay\",\"size\":10,\"solidity\":0.2},\"type\":\"scatter\"}],\"parcoords\":[{\"type\":\"parcoords\",\"line\":{\"colorbar\":{\"outlinewidth\":0,\"ticks\":\"\"}}}],\"scatterpolargl\":[{\"type\":\"scatterpolargl\",\"marker\":{\"colorbar\":{\"outlinewidth\":0,\"ticks\":\"\"}}}],\"bar\":[{\"error_x\":{\"color\":\"#2a3f5f\"},\"error_y\":{\"color\":\"#2a3f5f\"},\"marker\":{\"line\":{\"color\":\"#E5ECF6\",\"width\":0.5},\"pattern\":{\"fillmode\":\"overlay\",\"size\":10,\"solidity\":0.2}},\"type\":\"bar\"}],\"scattergeo\":[{\"type\":\"scattergeo\",\"marker\":{\"colorbar\":{\"outlinewidth\":0,\"ticks\":\"\"}}}],\"scatterpolar\":[{\"type\":\"scatterpolar\",\"marker\":{\"colorbar\":{\"outlinewidth\":0,\"ticks\":\"\"}}}],\"histogram\":[{\"marker\":{\"pattern\":{\"fillmode\":\"overlay\",\"size\":10,\"solidity\":0.2}},\"type\":\"histogram\"}],\"scattergl\":[{\"type\":\"scattergl\",\"marker\":{\"colorbar\":{\"outlinewidth\":0,\"ticks\":\"\"}}}],\"scatter3d\":[{\"type\":\"scatter3d\",\"line\":{\"colorbar\":{\"outlinewidth\":0,\"ticks\":\"\"}},\"marker\":{\"colorbar\":{\"outlinewidth\":0,\"ticks\":\"\"}}}],\"scattermapbox\":[{\"type\":\"scattermapbox\",\"marker\":{\"colorbar\":{\"outlinewidth\":0,\"ticks\":\"\"}}}],\"scatterternary\":[{\"type\":\"scatterternary\",\"marker\":{\"colorbar\":{\"outlinewidth\":0,\"ticks\":\"\"}}}],\"scattercarpet\":[{\"type\":\"scattercarpet\",\"marker\":{\"colorbar\":{\"outlinewidth\":0,\"ticks\":\"\"}}}],\"carpet\":[{\"aaxis\":{\"endlinecolor\":\"#2a3f5f\",\"gridcolor\":\"white\",\"linecolor\":\"white\",\"minorgridcolor\":\"white\",\"startlinecolor\":\"#2a3f5f\"},\"baxis\":{\"endlinecolor\":\"#2a3f5f\",\"gridcolor\":\"white\",\"linecolor\":\"white\",\"minorgridcolor\":\"white\",\"startlinecolor\":\"#2a3f5f\"},\"type\":\"carpet\"}],\"table\":[{\"cells\":{\"fill\":{\"color\":\"#EBF0F8\"},\"line\":{\"color\":\"white\"}},\"header\":{\"fill\":{\"color\":\"#C8D4E3\"},\"line\":{\"color\":\"white\"}},\"type\":\"table\"}],\"barpolar\":[{\"marker\":{\"line\":{\"color\":\"#E5ECF6\",\"width\":0.5},\"pattern\":{\"fillmode\":\"overlay\",\"size\":10,\"solidity\":0.2}},\"type\":\"barpolar\"}],\"pie\":[{\"automargin\":true,\"type\":\"pie\"}]},\"layout\":{\"autotypenumbers\":\"strict\",\"colorway\":[\"#636efa\",\"#EF553B\",\"#00cc96\",\"#ab63fa\",\"#FFA15A\",\"#19d3f3\",\"#FF6692\",\"#B6E880\",\"#FF97FF\",\"#FECB52\"],\"font\":{\"color\":\"#2a3f5f\"},\"hovermode\":\"closest\",\"hoverlabel\":{\"align\":\"left\"},\"paper_bgcolor\":\"white\",\"plot_bgcolor\":\"#E5ECF6\",\"polar\":{\"bgcolor\":\"#E5ECF6\",\"angularaxis\":{\"gridcolor\":\"white\",\"linecolor\":\"white\",\"ticks\":\"\"},\"radialaxis\":{\"gridcolor\":\"white\",\"linecolor\":\"white\",\"ticks\":\"\"}},\"ternary\":{\"bgcolor\":\"#E5ECF6\",\"aaxis\":{\"gridcolor\":\"white\",\"linecolor\":\"white\",\"ticks\":\"\"},\"baxis\":{\"gridcolor\":\"white\",\"linecolor\":\"white\",\"ticks\":\"\"},\"caxis\":{\"gridcolor\":\"white\",\"linecolor\":\"white\",\"ticks\":\"\"}},\"coloraxis\":{\"colorbar\":{\"outlinewidth\":0,\"ticks\":\"\"}},\"colorscale\":{\"sequential\":[[0.0,\"#0d0887\"],[0.1111111111111111,\"#46039f\"],[0.2222222222222222,\"#7201a8\"],[0.3333333333333333,\"#9c179e\"],[0.4444444444444444,\"#bd3786\"],[0.5555555555555556,\"#d8576b\"],[0.6666666666666666,\"#ed7953\"],[0.7777777777777778,\"#fb9f3a\"],[0.8888888888888888,\"#fdca26\"],[1.0,\"#f0f921\"]],\"sequentialminus\":[[0.0,\"#0d0887\"],[0.1111111111111111,\"#46039f\"],[0.2222222222222222,\"#7201a8\"],[0.3333333333333333,\"#9c179e\"],[0.4444444444444444,\"#bd3786\"],[0.5555555555555556,\"#d8576b\"],[0.6666666666666666,\"#ed7953\"],[0.7777777777777778,\"#fb9f3a\"],[0.8888888888888888,\"#fdca26\"],[1.0,\"#f0f921\"]],\"diverging\":[[0,\"#8e0152\"],[0.1,\"#c51b7d\"],[0.2,\"#de77ae\"],[0.3,\"#f1b6da\"],[0.4,\"#fde0ef\"],[0.5,\"#f7f7f7\"],[0.6,\"#e6f5d0\"],[0.7,\"#b8e186\"],[0.8,\"#7fbc41\"],[0.9,\"#4d9221\"],[1,\"#276419\"]]},\"xaxis\":{\"gridcolor\":\"white\",\"linecolor\":\"white\",\"ticks\":\"\",\"title\":{\"standoff\":15},\"zerolinecolor\":\"white\",\"automargin\":true,\"zerolinewidth\":2},\"yaxis\":{\"gridcolor\":\"white\",\"linecolor\":\"white\",\"ticks\":\"\",\"title\":{\"standoff\":15},\"zerolinecolor\":\"white\",\"automargin\":true,\"zerolinewidth\":2},\"scene\":{\"xaxis\":{\"backgroundcolor\":\"#E5ECF6\",\"gridcolor\":\"white\",\"linecolor\":\"white\",\"showbackground\":true,\"ticks\":\"\",\"zerolinecolor\":\"white\",\"gridwidth\":2},\"yaxis\":{\"backgroundcolor\":\"#E5ECF6\",\"gridcolor\":\"white\",\"linecolor\":\"white\",\"showbackground\":true,\"ticks\":\"\",\"zerolinecolor\":\"white\",\"gridwidth\":2},\"zaxis\":{\"backgroundcolor\":\"#E5ECF6\",\"gridcolor\":\"white\",\"linecolor\":\"white\",\"showbackground\":true,\"ticks\":\"\",\"zerolinecolor\":\"white\",\"gridwidth\":2}},\"shapedefaults\":{\"line\":{\"color\":\"#2a3f5f\"}},\"annotationdefaults\":{\"arrowcolor\":\"#2a3f5f\",\"arrowhead\":0,\"arrowwidth\":1},\"geo\":{\"bgcolor\":\"white\",\"landcolor\":\"#E5ECF6\",\"subunitcolor\":\"white\",\"showland\":true,\"showlakes\":true,\"lakecolor\":\"white\"},\"title\":{\"x\":0.05},\"mapbox\":{\"style\":\"light\"}}},\"xaxis\":{\"anchor\":\"y\",\"domain\":[0.0,1.0],\"title\":{\"text\":\"Film Title\"}},\"yaxis\":{\"anchor\":\"x\",\"domain\":[0.0,1.0],\"title\":{\"text\":\"Rating\"}},\"coloraxis\":{\"colorbar\":{\"title\":{\"text\":\"color\"}},\"colorscale\":[[0.0,\"#0d0887\"],[0.1111111111111111,\"#46039f\"],[0.2222222222222222,\"#7201a8\"],[0.3333333333333333,\"#9c179e\"],[0.4444444444444444,\"#bd3786\"],[0.5555555555555556,\"#d8576b\"],[0.6666666666666666,\"#ed7953\"],[0.7777777777777778,\"#fb9f3a\"],[0.8888888888888888,\"#fdca26\"],[1.0,\"#f0f921\"]]},\"legend\":{\"tracegroupgap\":0},\"title\":{\"text\":\"Top 10 Netflix Titles Based on Rating\"},\"barmode\":\"relative\",\"height\":400},                        {\"responsive\": true}                    ).then(function(){\n",
              "                            \n",
              "var gd = document.getElementById('a13a9e86-b730-4a75-a0ec-02d0ecde5be7');\n",
              "var x = new MutationObserver(function (mutations, observer) {{\n",
              "        var display = window.getComputedStyle(gd).display;\n",
              "        if (!display || display === 'none') {{\n",
              "            console.log([gd, 'removed!']);\n",
              "            Plotly.purge(gd);\n",
              "            observer.disconnect();\n",
              "        }}\n",
              "}});\n",
              "\n",
              "// Listen for the removal of the full notebook cells\n",
              "var notebookContainer = gd.closest('#notebook-container');\n",
              "if (notebookContainer) {{\n",
              "    x.observe(notebookContainer, {childList: true});\n",
              "}}\n",
              "\n",
              "// Listen for the clearing of the current output cell\n",
              "var outputEl = gd.closest('.output');\n",
              "if (outputEl) {{\n",
              "    x.observe(outputEl, {childList: true});\n",
              "}}\n",
              "\n",
              "                        })                };                            </script>        </div>\n",
              "</body>\n",
              "</html>"
            ]
          },
          "metadata": {}
        }
      ],
      "source": [
        "# create visualization with most popular titles according to ratings\n",
        "import plotly.express as px\n",
        "\n",
        "fig = px.bar(x=top_10_movies_pd.title, y=top_10_movies_pd.rating, color=top_10_movies_pd.rating, title= 'Top 10 Netflix Titles Based on Rating', labels={'x':'Film Title', 'y': 'Rating'}, height=400)\n",
        "fig.show()"
      ]
    },
    {
      "cell_type": "code",
      "execution_count": null,
      "metadata": {
        "id": "jBC-0odJv1kb",
        "colab": {
          "base_uri": "https://localhost:8080/",
          "height": 417
        },
        "outputId": "2d96b4c6-c632-4be2-8160-4bea2b6ffdf3"
      },
      "outputs": [
        {
          "output_type": "display_data",
          "data": {
            "text/html": [
              "<html>\n",
              "<head><meta charset=\"utf-8\" /></head>\n",
              "<body>\n",
              "    <div>            <script src=\"https://cdnjs.cloudflare.com/ajax/libs/mathjax/2.7.5/MathJax.js?config=TeX-AMS-MML_SVG\"></script><script type=\"text/javascript\">if (window.MathJax && window.MathJax.Hub && window.MathJax.Hub.Config) {window.MathJax.Hub.Config({SVG: {font: \"STIX-Web\"}});}</script>                <script type=\"text/javascript\">window.PlotlyConfig = {MathJaxConfig: 'local'};</script>\n",
              "        <script charset=\"utf-8\" src=\"https://cdn.plot.ly/plotly-2.24.1.min.js\"></script>                <div id=\"c4bfd2bf-83a1-4231-8a6f-157c742a51e1\" class=\"plotly-graph-div\" style=\"height:400px; width:100%;\"></div>            <script type=\"text/javascript\">                                    window.PLOTLYENV=window.PLOTLYENV || {};                                    if (document.getElementById(\"c4bfd2bf-83a1-4231-8a6f-157c742a51e1\")) {                    Plotly.newPlot(                        \"c4bfd2bf-83a1-4231-8a6f-157c742a51e1\",                        [{\"alignmentgroup\":\"True\",\"hovertemplate\":\"Netflix Title=%{x}\\u003cbr\\u003eDuration (mins)=%{y}\\u003cbr\\u003ecolor=%{marker.color}\\u003cextra\\u003e\\u003c\\u002fextra\\u003e\",\"legendgroup\":\"\",\"marker\":{\"color\":[60,49,96,23,557,403,90,23,70,80],\"coloraxis\":\"coloraxis\",\"pattern\":{\"shape\":\"\"}},\"name\":\"\",\"offsetgroup\":\"\",\"orientation\":\"v\",\"showlegend\":false,\"textposition\":\"auto\",\"x\":[\"1899\",\"breaking bad\",\"elesin oba: the king's horseman\",\"avatar: the last airbender\",\"cosmos: a spacetime odyssey\",\"our planet\",\"reply 1988\",\"rick and morty\",\"my mister\",\"leyla and mecnun\"],\"xaxis\":\"x\",\"y\":[60,49,96,23,557,403,90,23,70,80],\"yaxis\":\"y\",\"type\":\"bar\"}],                        {\"template\":{\"data\":{\"histogram2dcontour\":[{\"type\":\"histogram2dcontour\",\"colorbar\":{\"outlinewidth\":0,\"ticks\":\"\"},\"colorscale\":[[0.0,\"#0d0887\"],[0.1111111111111111,\"#46039f\"],[0.2222222222222222,\"#7201a8\"],[0.3333333333333333,\"#9c179e\"],[0.4444444444444444,\"#bd3786\"],[0.5555555555555556,\"#d8576b\"],[0.6666666666666666,\"#ed7953\"],[0.7777777777777778,\"#fb9f3a\"],[0.8888888888888888,\"#fdca26\"],[1.0,\"#f0f921\"]]}],\"choropleth\":[{\"type\":\"choropleth\",\"colorbar\":{\"outlinewidth\":0,\"ticks\":\"\"}}],\"histogram2d\":[{\"type\":\"histogram2d\",\"colorbar\":{\"outlinewidth\":0,\"ticks\":\"\"},\"colorscale\":[[0.0,\"#0d0887\"],[0.1111111111111111,\"#46039f\"],[0.2222222222222222,\"#7201a8\"],[0.3333333333333333,\"#9c179e\"],[0.4444444444444444,\"#bd3786\"],[0.5555555555555556,\"#d8576b\"],[0.6666666666666666,\"#ed7953\"],[0.7777777777777778,\"#fb9f3a\"],[0.8888888888888888,\"#fdca26\"],[1.0,\"#f0f921\"]]}],\"heatmap\":[{\"type\":\"heatmap\",\"colorbar\":{\"outlinewidth\":0,\"ticks\":\"\"},\"colorscale\":[[0.0,\"#0d0887\"],[0.1111111111111111,\"#46039f\"],[0.2222222222222222,\"#7201a8\"],[0.3333333333333333,\"#9c179e\"],[0.4444444444444444,\"#bd3786\"],[0.5555555555555556,\"#d8576b\"],[0.6666666666666666,\"#ed7953\"],[0.7777777777777778,\"#fb9f3a\"],[0.8888888888888888,\"#fdca26\"],[1.0,\"#f0f921\"]]}],\"heatmapgl\":[{\"type\":\"heatmapgl\",\"colorbar\":{\"outlinewidth\":0,\"ticks\":\"\"},\"colorscale\":[[0.0,\"#0d0887\"],[0.1111111111111111,\"#46039f\"],[0.2222222222222222,\"#7201a8\"],[0.3333333333333333,\"#9c179e\"],[0.4444444444444444,\"#bd3786\"],[0.5555555555555556,\"#d8576b\"],[0.6666666666666666,\"#ed7953\"],[0.7777777777777778,\"#fb9f3a\"],[0.8888888888888888,\"#fdca26\"],[1.0,\"#f0f921\"]]}],\"contourcarpet\":[{\"type\":\"contourcarpet\",\"colorbar\":{\"outlinewidth\":0,\"ticks\":\"\"}}],\"contour\":[{\"type\":\"contour\",\"colorbar\":{\"outlinewidth\":0,\"ticks\":\"\"},\"colorscale\":[[0.0,\"#0d0887\"],[0.1111111111111111,\"#46039f\"],[0.2222222222222222,\"#7201a8\"],[0.3333333333333333,\"#9c179e\"],[0.4444444444444444,\"#bd3786\"],[0.5555555555555556,\"#d8576b\"],[0.6666666666666666,\"#ed7953\"],[0.7777777777777778,\"#fb9f3a\"],[0.8888888888888888,\"#fdca26\"],[1.0,\"#f0f921\"]]}],\"surface\":[{\"type\":\"surface\",\"colorbar\":{\"outlinewidth\":0,\"ticks\":\"\"},\"colorscale\":[[0.0,\"#0d0887\"],[0.1111111111111111,\"#46039f\"],[0.2222222222222222,\"#7201a8\"],[0.3333333333333333,\"#9c179e\"],[0.4444444444444444,\"#bd3786\"],[0.5555555555555556,\"#d8576b\"],[0.6666666666666666,\"#ed7953\"],[0.7777777777777778,\"#fb9f3a\"],[0.8888888888888888,\"#fdca26\"],[1.0,\"#f0f921\"]]}],\"mesh3d\":[{\"type\":\"mesh3d\",\"colorbar\":{\"outlinewidth\":0,\"ticks\":\"\"}}],\"scatter\":[{\"fillpattern\":{\"fillmode\":\"overlay\",\"size\":10,\"solidity\":0.2},\"type\":\"scatter\"}],\"parcoords\":[{\"type\":\"parcoords\",\"line\":{\"colorbar\":{\"outlinewidth\":0,\"ticks\":\"\"}}}],\"scatterpolargl\":[{\"type\":\"scatterpolargl\",\"marker\":{\"colorbar\":{\"outlinewidth\":0,\"ticks\":\"\"}}}],\"bar\":[{\"error_x\":{\"color\":\"#2a3f5f\"},\"error_y\":{\"color\":\"#2a3f5f\"},\"marker\":{\"line\":{\"color\":\"#E5ECF6\",\"width\":0.5},\"pattern\":{\"fillmode\":\"overlay\",\"size\":10,\"solidity\":0.2}},\"type\":\"bar\"}],\"scattergeo\":[{\"type\":\"scattergeo\",\"marker\":{\"colorbar\":{\"outlinewidth\":0,\"ticks\":\"\"}}}],\"scatterpolar\":[{\"type\":\"scatterpolar\",\"marker\":{\"colorbar\":{\"outlinewidth\":0,\"ticks\":\"\"}}}],\"histogram\":[{\"marker\":{\"pattern\":{\"fillmode\":\"overlay\",\"size\":10,\"solidity\":0.2}},\"type\":\"histogram\"}],\"scattergl\":[{\"type\":\"scattergl\",\"marker\":{\"colorbar\":{\"outlinewidth\":0,\"ticks\":\"\"}}}],\"scatter3d\":[{\"type\":\"scatter3d\",\"line\":{\"colorbar\":{\"outlinewidth\":0,\"ticks\":\"\"}},\"marker\":{\"colorbar\":{\"outlinewidth\":0,\"ticks\":\"\"}}}],\"scattermapbox\":[{\"type\":\"scattermapbox\",\"marker\":{\"colorbar\":{\"outlinewidth\":0,\"ticks\":\"\"}}}],\"scatterternary\":[{\"type\":\"scatterternary\",\"marker\":{\"colorbar\":{\"outlinewidth\":0,\"ticks\":\"\"}}}],\"scattercarpet\":[{\"type\":\"scattercarpet\",\"marker\":{\"colorbar\":{\"outlinewidth\":0,\"ticks\":\"\"}}}],\"carpet\":[{\"aaxis\":{\"endlinecolor\":\"#2a3f5f\",\"gridcolor\":\"white\",\"linecolor\":\"white\",\"minorgridcolor\":\"white\",\"startlinecolor\":\"#2a3f5f\"},\"baxis\":{\"endlinecolor\":\"#2a3f5f\",\"gridcolor\":\"white\",\"linecolor\":\"white\",\"minorgridcolor\":\"white\",\"startlinecolor\":\"#2a3f5f\"},\"type\":\"carpet\"}],\"table\":[{\"cells\":{\"fill\":{\"color\":\"#EBF0F8\"},\"line\":{\"color\":\"white\"}},\"header\":{\"fill\":{\"color\":\"#C8D4E3\"},\"line\":{\"color\":\"white\"}},\"type\":\"table\"}],\"barpolar\":[{\"marker\":{\"line\":{\"color\":\"#E5ECF6\",\"width\":0.5},\"pattern\":{\"fillmode\":\"overlay\",\"size\":10,\"solidity\":0.2}},\"type\":\"barpolar\"}],\"pie\":[{\"automargin\":true,\"type\":\"pie\"}]},\"layout\":{\"autotypenumbers\":\"strict\",\"colorway\":[\"#636efa\",\"#EF553B\",\"#00cc96\",\"#ab63fa\",\"#FFA15A\",\"#19d3f3\",\"#FF6692\",\"#B6E880\",\"#FF97FF\",\"#FECB52\"],\"font\":{\"color\":\"#2a3f5f\"},\"hovermode\":\"closest\",\"hoverlabel\":{\"align\":\"left\"},\"paper_bgcolor\":\"white\",\"plot_bgcolor\":\"#E5ECF6\",\"polar\":{\"bgcolor\":\"#E5ECF6\",\"angularaxis\":{\"gridcolor\":\"white\",\"linecolor\":\"white\",\"ticks\":\"\"},\"radialaxis\":{\"gridcolor\":\"white\",\"linecolor\":\"white\",\"ticks\":\"\"}},\"ternary\":{\"bgcolor\":\"#E5ECF6\",\"aaxis\":{\"gridcolor\":\"white\",\"linecolor\":\"white\",\"ticks\":\"\"},\"baxis\":{\"gridcolor\":\"white\",\"linecolor\":\"white\",\"ticks\":\"\"},\"caxis\":{\"gridcolor\":\"white\",\"linecolor\":\"white\",\"ticks\":\"\"}},\"coloraxis\":{\"colorbar\":{\"outlinewidth\":0,\"ticks\":\"\"}},\"colorscale\":{\"sequential\":[[0.0,\"#0d0887\"],[0.1111111111111111,\"#46039f\"],[0.2222222222222222,\"#7201a8\"],[0.3333333333333333,\"#9c179e\"],[0.4444444444444444,\"#bd3786\"],[0.5555555555555556,\"#d8576b\"],[0.6666666666666666,\"#ed7953\"],[0.7777777777777778,\"#fb9f3a\"],[0.8888888888888888,\"#fdca26\"],[1.0,\"#f0f921\"]],\"sequentialminus\":[[0.0,\"#0d0887\"],[0.1111111111111111,\"#46039f\"],[0.2222222222222222,\"#7201a8\"],[0.3333333333333333,\"#9c179e\"],[0.4444444444444444,\"#bd3786\"],[0.5555555555555556,\"#d8576b\"],[0.6666666666666666,\"#ed7953\"],[0.7777777777777778,\"#fb9f3a\"],[0.8888888888888888,\"#fdca26\"],[1.0,\"#f0f921\"]],\"diverging\":[[0,\"#8e0152\"],[0.1,\"#c51b7d\"],[0.2,\"#de77ae\"],[0.3,\"#f1b6da\"],[0.4,\"#fde0ef\"],[0.5,\"#f7f7f7\"],[0.6,\"#e6f5d0\"],[0.7,\"#b8e186\"],[0.8,\"#7fbc41\"],[0.9,\"#4d9221\"],[1,\"#276419\"]]},\"xaxis\":{\"gridcolor\":\"white\",\"linecolor\":\"white\",\"ticks\":\"\",\"title\":{\"standoff\":15},\"zerolinecolor\":\"white\",\"automargin\":true,\"zerolinewidth\":2},\"yaxis\":{\"gridcolor\":\"white\",\"linecolor\":\"white\",\"ticks\":\"\",\"title\":{\"standoff\":15},\"zerolinecolor\":\"white\",\"automargin\":true,\"zerolinewidth\":2},\"scene\":{\"xaxis\":{\"backgroundcolor\":\"#E5ECF6\",\"gridcolor\":\"white\",\"linecolor\":\"white\",\"showbackground\":true,\"ticks\":\"\",\"zerolinecolor\":\"white\",\"gridwidth\":2},\"yaxis\":{\"backgroundcolor\":\"#E5ECF6\",\"gridcolor\":\"white\",\"linecolor\":\"white\",\"showbackground\":true,\"ticks\":\"\",\"zerolinecolor\":\"white\",\"gridwidth\":2},\"zaxis\":{\"backgroundcolor\":\"#E5ECF6\",\"gridcolor\":\"white\",\"linecolor\":\"white\",\"showbackground\":true,\"ticks\":\"\",\"zerolinecolor\":\"white\",\"gridwidth\":2}},\"shapedefaults\":{\"line\":{\"color\":\"#2a3f5f\"}},\"annotationdefaults\":{\"arrowcolor\":\"#2a3f5f\",\"arrowhead\":0,\"arrowwidth\":1},\"geo\":{\"bgcolor\":\"white\",\"landcolor\":\"#E5ECF6\",\"subunitcolor\":\"white\",\"showland\":true,\"showlakes\":true,\"lakecolor\":\"white\"},\"title\":{\"x\":0.05},\"mapbox\":{\"style\":\"light\"}}},\"xaxis\":{\"anchor\":\"y\",\"domain\":[0.0,1.0],\"title\":{\"text\":\"Netflix Title\"}},\"yaxis\":{\"anchor\":\"x\",\"domain\":[0.0,1.0],\"title\":{\"text\":\"Duration (mins)\"}},\"coloraxis\":{\"colorbar\":{\"title\":{\"text\":\"color\"}},\"colorscale\":[[0.0,\"#0d0887\"],[0.1111111111111111,\"#46039f\"],[0.2222222222222222,\"#7201a8\"],[0.3333333333333333,\"#9c179e\"],[0.4444444444444444,\"#bd3786\"],[0.5555555555555556,\"#d8576b\"],[0.6666666666666666,\"#ed7953\"],[0.7777777777777778,\"#fb9f3a\"],[0.8888888888888888,\"#fdca26\"],[1.0,\"#f0f921\"]]},\"legend\":{\"tracegroupgap\":0},\"title\":{\"text\":\"Duration of Top 10 Titles\"},\"barmode\":\"relative\",\"height\":400},                        {\"responsive\": true}                    ).then(function(){\n",
              "                            \n",
              "var gd = document.getElementById('c4bfd2bf-83a1-4231-8a6f-157c742a51e1');\n",
              "var x = new MutationObserver(function (mutations, observer) {{\n",
              "        var display = window.getComputedStyle(gd).display;\n",
              "        if (!display || display === 'none') {{\n",
              "            console.log([gd, 'removed!']);\n",
              "            Plotly.purge(gd);\n",
              "            observer.disconnect();\n",
              "        }}\n",
              "}});\n",
              "\n",
              "// Listen for the removal of the full notebook cells\n",
              "var notebookContainer = gd.closest('#notebook-container');\n",
              "if (notebookContainer) {{\n",
              "    x.observe(notebookContainer, {childList: true});\n",
              "}}\n",
              "\n",
              "// Listen for the clearing of the current output cell\n",
              "var outputEl = gd.closest('.output');\n",
              "if (outputEl) {{\n",
              "    x.observe(outputEl, {childList: true});\n",
              "}}\n",
              "\n",
              "                        })                };                            </script>        </div>\n",
              "</body>\n",
              "</html>"
            ]
          },
          "metadata": {}
        }
      ],
      "source": [
        "# create visualization with titles with the longest duration\n",
        "import plotly.express as px\n",
        "\n",
        "fig = px.bar(x=top_10_movies_pd.title, y=top_10_movies_pd.duration, color=top_10_movies_pd.duration, title= 'Duration of Top 10 Titles', labels={'x':'Netflix Title', 'y': 'Duration (mins)'}, height=400)\n",
        "fig.show()"
      ]
    },
    {
      "cell_type": "code",
      "execution_count": null,
      "metadata": {
        "id": "Yb49RQehtEb6",
        "colab": {
          "base_uri": "https://localhost:8080/"
        },
        "outputId": "44048b16-3c4d-4984-bbd4-2a7beebbc5a1"
      },
      "outputs": [
        {
          "output_type": "display_data",
          "data": {
            "text/html": [
              "<html>\n",
              "<head><meta charset=\"utf-8\" /></head>\n",
              "<body>\n",
              "    <div>            <script src=\"https://cdnjs.cloudflare.com/ajax/libs/mathjax/2.7.5/MathJax.js?config=TeX-AMS-MML_SVG\"></script><script type=\"text/javascript\">if (window.MathJax && window.MathJax.Hub && window.MathJax.Hub.Config) {window.MathJax.Hub.Config({SVG: {font: \"STIX-Web\"}});}</script>                <script type=\"text/javascript\">window.PlotlyConfig = {MathJaxConfig: 'local'};</script>\n",
              "        <script charset=\"utf-8\" src=\"https://cdn.plot.ly/plotly-2.24.1.min.js\"></script>                <div id=\"3335789c-b5de-421c-8ca5-fbcf746bbdee\" class=\"plotly-graph-div\" style=\"height:400px; width:100%;\"></div>            <script type=\"text/javascript\">                                    window.PLOTLYENV=window.PLOTLYENV || {};                                    if (document.getElementById(\"3335789c-b5de-421c-8ca5-fbcf746bbdee\")) {                    Plotly.newPlot(                        \"3335789c-b5de-421c-8ca5-fbcf746bbdee\",                        [{\"alignmentgroup\":\"True\",\"hovertemplate\":\"Film Title=%{x}\\u003cbr\\u003eRating=%{y}\\u003cbr\\u003ecolor=%{marker.color}\\u003cextra\\u003e\\u003c\\u002fextra\\u003e\",\"legendgroup\":\"\",\"marker\":{\"color\":[1.7,2.0,2.0,2.1,2.1,2.2,2.2,2.2,2.3,2.3],\"coloraxis\":\"coloraxis\",\"pattern\":{\"shape\":\"\"}},\"name\":\"\",\"offsetgroup\":\"\",\"orientation\":\"v\",\"showlegend\":false,\"textposition\":\"auto\",\"x\":[\"defcon 2012\",\"hajwala: the missing engine\",\"way of the vampire\",\"the hype house\",\"thomas & friends: all engines go\",\"sean banan inuti seanfrika\",\"river of darkness\",\"sinister squad\",\"romina\",\"he's expecting\"],\"xaxis\":\"x\",\"y\":[1.7,2.0,2.0,2.1,2.1,2.2,2.2,2.2,2.3,2.3],\"yaxis\":\"y\",\"type\":\"bar\"}],                        {\"template\":{\"data\":{\"histogram2dcontour\":[{\"type\":\"histogram2dcontour\",\"colorbar\":{\"outlinewidth\":0,\"ticks\":\"\"},\"colorscale\":[[0.0,\"#0d0887\"],[0.1111111111111111,\"#46039f\"],[0.2222222222222222,\"#7201a8\"],[0.3333333333333333,\"#9c179e\"],[0.4444444444444444,\"#bd3786\"],[0.5555555555555556,\"#d8576b\"],[0.6666666666666666,\"#ed7953\"],[0.7777777777777778,\"#fb9f3a\"],[0.8888888888888888,\"#fdca26\"],[1.0,\"#f0f921\"]]}],\"choropleth\":[{\"type\":\"choropleth\",\"colorbar\":{\"outlinewidth\":0,\"ticks\":\"\"}}],\"histogram2d\":[{\"type\":\"histogram2d\",\"colorbar\":{\"outlinewidth\":0,\"ticks\":\"\"},\"colorscale\":[[0.0,\"#0d0887\"],[0.1111111111111111,\"#46039f\"],[0.2222222222222222,\"#7201a8\"],[0.3333333333333333,\"#9c179e\"],[0.4444444444444444,\"#bd3786\"],[0.5555555555555556,\"#d8576b\"],[0.6666666666666666,\"#ed7953\"],[0.7777777777777778,\"#fb9f3a\"],[0.8888888888888888,\"#fdca26\"],[1.0,\"#f0f921\"]]}],\"heatmap\":[{\"type\":\"heatmap\",\"colorbar\":{\"outlinewidth\":0,\"ticks\":\"\"},\"colorscale\":[[0.0,\"#0d0887\"],[0.1111111111111111,\"#46039f\"],[0.2222222222222222,\"#7201a8\"],[0.3333333333333333,\"#9c179e\"],[0.4444444444444444,\"#bd3786\"],[0.5555555555555556,\"#d8576b\"],[0.6666666666666666,\"#ed7953\"],[0.7777777777777778,\"#fb9f3a\"],[0.8888888888888888,\"#fdca26\"],[1.0,\"#f0f921\"]]}],\"heatmapgl\":[{\"type\":\"heatmapgl\",\"colorbar\":{\"outlinewidth\":0,\"ticks\":\"\"},\"colorscale\":[[0.0,\"#0d0887\"],[0.1111111111111111,\"#46039f\"],[0.2222222222222222,\"#7201a8\"],[0.3333333333333333,\"#9c179e\"],[0.4444444444444444,\"#bd3786\"],[0.5555555555555556,\"#d8576b\"],[0.6666666666666666,\"#ed7953\"],[0.7777777777777778,\"#fb9f3a\"],[0.8888888888888888,\"#fdca26\"],[1.0,\"#f0f921\"]]}],\"contourcarpet\":[{\"type\":\"contourcarpet\",\"colorbar\":{\"outlinewidth\":0,\"ticks\":\"\"}}],\"contour\":[{\"type\":\"contour\",\"colorbar\":{\"outlinewidth\":0,\"ticks\":\"\"},\"colorscale\":[[0.0,\"#0d0887\"],[0.1111111111111111,\"#46039f\"],[0.2222222222222222,\"#7201a8\"],[0.3333333333333333,\"#9c179e\"],[0.4444444444444444,\"#bd3786\"],[0.5555555555555556,\"#d8576b\"],[0.6666666666666666,\"#ed7953\"],[0.7777777777777778,\"#fb9f3a\"],[0.8888888888888888,\"#fdca26\"],[1.0,\"#f0f921\"]]}],\"surface\":[{\"type\":\"surface\",\"colorbar\":{\"outlinewidth\":0,\"ticks\":\"\"},\"colorscale\":[[0.0,\"#0d0887\"],[0.1111111111111111,\"#46039f\"],[0.2222222222222222,\"#7201a8\"],[0.3333333333333333,\"#9c179e\"],[0.4444444444444444,\"#bd3786\"],[0.5555555555555556,\"#d8576b\"],[0.6666666666666666,\"#ed7953\"],[0.7777777777777778,\"#fb9f3a\"],[0.8888888888888888,\"#fdca26\"],[1.0,\"#f0f921\"]]}],\"mesh3d\":[{\"type\":\"mesh3d\",\"colorbar\":{\"outlinewidth\":0,\"ticks\":\"\"}}],\"scatter\":[{\"fillpattern\":{\"fillmode\":\"overlay\",\"size\":10,\"solidity\":0.2},\"type\":\"scatter\"}],\"parcoords\":[{\"type\":\"parcoords\",\"line\":{\"colorbar\":{\"outlinewidth\":0,\"ticks\":\"\"}}}],\"scatterpolargl\":[{\"type\":\"scatterpolargl\",\"marker\":{\"colorbar\":{\"outlinewidth\":0,\"ticks\":\"\"}}}],\"bar\":[{\"error_x\":{\"color\":\"#2a3f5f\"},\"error_y\":{\"color\":\"#2a3f5f\"},\"marker\":{\"line\":{\"color\":\"#E5ECF6\",\"width\":0.5},\"pattern\":{\"fillmode\":\"overlay\",\"size\":10,\"solidity\":0.2}},\"type\":\"bar\"}],\"scattergeo\":[{\"type\":\"scattergeo\",\"marker\":{\"colorbar\":{\"outlinewidth\":0,\"ticks\":\"\"}}}],\"scatterpolar\":[{\"type\":\"scatterpolar\",\"marker\":{\"colorbar\":{\"outlinewidth\":0,\"ticks\":\"\"}}}],\"histogram\":[{\"marker\":{\"pattern\":{\"fillmode\":\"overlay\",\"size\":10,\"solidity\":0.2}},\"type\":\"histogram\"}],\"scattergl\":[{\"type\":\"scattergl\",\"marker\":{\"colorbar\":{\"outlinewidth\":0,\"ticks\":\"\"}}}],\"scatter3d\":[{\"type\":\"scatter3d\",\"line\":{\"colorbar\":{\"outlinewidth\":0,\"ticks\":\"\"}},\"marker\":{\"colorbar\":{\"outlinewidth\":0,\"ticks\":\"\"}}}],\"scattermapbox\":[{\"type\":\"scattermapbox\",\"marker\":{\"colorbar\":{\"outlinewidth\":0,\"ticks\":\"\"}}}],\"scatterternary\":[{\"type\":\"scatterternary\",\"marker\":{\"colorbar\":{\"outlinewidth\":0,\"ticks\":\"\"}}}],\"scattercarpet\":[{\"type\":\"scattercarpet\",\"marker\":{\"colorbar\":{\"outlinewidth\":0,\"ticks\":\"\"}}}],\"carpet\":[{\"aaxis\":{\"endlinecolor\":\"#2a3f5f\",\"gridcolor\":\"white\",\"linecolor\":\"white\",\"minorgridcolor\":\"white\",\"startlinecolor\":\"#2a3f5f\"},\"baxis\":{\"endlinecolor\":\"#2a3f5f\",\"gridcolor\":\"white\",\"linecolor\":\"white\",\"minorgridcolor\":\"white\",\"startlinecolor\":\"#2a3f5f\"},\"type\":\"carpet\"}],\"table\":[{\"cells\":{\"fill\":{\"color\":\"#EBF0F8\"},\"line\":{\"color\":\"white\"}},\"header\":{\"fill\":{\"color\":\"#C8D4E3\"},\"line\":{\"color\":\"white\"}},\"type\":\"table\"}],\"barpolar\":[{\"marker\":{\"line\":{\"color\":\"#E5ECF6\",\"width\":0.5},\"pattern\":{\"fillmode\":\"overlay\",\"size\":10,\"solidity\":0.2}},\"type\":\"barpolar\"}],\"pie\":[{\"automargin\":true,\"type\":\"pie\"}]},\"layout\":{\"autotypenumbers\":\"strict\",\"colorway\":[\"#636efa\",\"#EF553B\",\"#00cc96\",\"#ab63fa\",\"#FFA15A\",\"#19d3f3\",\"#FF6692\",\"#B6E880\",\"#FF97FF\",\"#FECB52\"],\"font\":{\"color\":\"#2a3f5f\"},\"hovermode\":\"closest\",\"hoverlabel\":{\"align\":\"left\"},\"paper_bgcolor\":\"white\",\"plot_bgcolor\":\"#E5ECF6\",\"polar\":{\"bgcolor\":\"#E5ECF6\",\"angularaxis\":{\"gridcolor\":\"white\",\"linecolor\":\"white\",\"ticks\":\"\"},\"radialaxis\":{\"gridcolor\":\"white\",\"linecolor\":\"white\",\"ticks\":\"\"}},\"ternary\":{\"bgcolor\":\"#E5ECF6\",\"aaxis\":{\"gridcolor\":\"white\",\"linecolor\":\"white\",\"ticks\":\"\"},\"baxis\":{\"gridcolor\":\"white\",\"linecolor\":\"white\",\"ticks\":\"\"},\"caxis\":{\"gridcolor\":\"white\",\"linecolor\":\"white\",\"ticks\":\"\"}},\"coloraxis\":{\"colorbar\":{\"outlinewidth\":0,\"ticks\":\"\"}},\"colorscale\":{\"sequential\":[[0.0,\"#0d0887\"],[0.1111111111111111,\"#46039f\"],[0.2222222222222222,\"#7201a8\"],[0.3333333333333333,\"#9c179e\"],[0.4444444444444444,\"#bd3786\"],[0.5555555555555556,\"#d8576b\"],[0.6666666666666666,\"#ed7953\"],[0.7777777777777778,\"#fb9f3a\"],[0.8888888888888888,\"#fdca26\"],[1.0,\"#f0f921\"]],\"sequentialminus\":[[0.0,\"#0d0887\"],[0.1111111111111111,\"#46039f\"],[0.2222222222222222,\"#7201a8\"],[0.3333333333333333,\"#9c179e\"],[0.4444444444444444,\"#bd3786\"],[0.5555555555555556,\"#d8576b\"],[0.6666666666666666,\"#ed7953\"],[0.7777777777777778,\"#fb9f3a\"],[0.8888888888888888,\"#fdca26\"],[1.0,\"#f0f921\"]],\"diverging\":[[0,\"#8e0152\"],[0.1,\"#c51b7d\"],[0.2,\"#de77ae\"],[0.3,\"#f1b6da\"],[0.4,\"#fde0ef\"],[0.5,\"#f7f7f7\"],[0.6,\"#e6f5d0\"],[0.7,\"#b8e186\"],[0.8,\"#7fbc41\"],[0.9,\"#4d9221\"],[1,\"#276419\"]]},\"xaxis\":{\"gridcolor\":\"white\",\"linecolor\":\"white\",\"ticks\":\"\",\"title\":{\"standoff\":15},\"zerolinecolor\":\"white\",\"automargin\":true,\"zerolinewidth\":2},\"yaxis\":{\"gridcolor\":\"white\",\"linecolor\":\"white\",\"ticks\":\"\",\"title\":{\"standoff\":15},\"zerolinecolor\":\"white\",\"automargin\":true,\"zerolinewidth\":2},\"scene\":{\"xaxis\":{\"backgroundcolor\":\"#E5ECF6\",\"gridcolor\":\"white\",\"linecolor\":\"white\",\"showbackground\":true,\"ticks\":\"\",\"zerolinecolor\":\"white\",\"gridwidth\":2},\"yaxis\":{\"backgroundcolor\":\"#E5ECF6\",\"gridcolor\":\"white\",\"linecolor\":\"white\",\"showbackground\":true,\"ticks\":\"\",\"zerolinecolor\":\"white\",\"gridwidth\":2},\"zaxis\":{\"backgroundcolor\":\"#E5ECF6\",\"gridcolor\":\"white\",\"linecolor\":\"white\",\"showbackground\":true,\"ticks\":\"\",\"zerolinecolor\":\"white\",\"gridwidth\":2}},\"shapedefaults\":{\"line\":{\"color\":\"#2a3f5f\"}},\"annotationdefaults\":{\"arrowcolor\":\"#2a3f5f\",\"arrowhead\":0,\"arrowwidth\":1},\"geo\":{\"bgcolor\":\"white\",\"landcolor\":\"#E5ECF6\",\"subunitcolor\":\"white\",\"showland\":true,\"showlakes\":true,\"lakecolor\":\"white\"},\"title\":{\"x\":0.05},\"mapbox\":{\"style\":\"light\"}}},\"xaxis\":{\"anchor\":\"y\",\"domain\":[0.0,1.0],\"title\":{\"text\":\"Film Title\"}},\"yaxis\":{\"anchor\":\"x\",\"domain\":[0.0,1.0],\"title\":{\"text\":\"Rating\"}},\"coloraxis\":{\"colorbar\":{\"title\":{\"text\":\"color\"}},\"colorscale\":[[0.0,\"#0d0887\"],[0.1111111111111111,\"#46039f\"],[0.2222222222222222,\"#7201a8\"],[0.3333333333333333,\"#9c179e\"],[0.4444444444444444,\"#bd3786\"],[0.5555555555555556,\"#d8576b\"],[0.6666666666666666,\"#ed7953\"],[0.7777777777777778,\"#fb9f3a\"],[0.8888888888888888,\"#fdca26\"],[1.0,\"#f0f921\"]]},\"legend\":{\"tracegroupgap\":0},\"title\":{\"text\":\"Bottom 10 Netflix Titles Based on Rating\"},\"barmode\":\"relative\",\"height\":400},                        {\"responsive\": true}                    ).then(function(){\n",
              "                            \n",
              "var gd = document.getElementById('3335789c-b5de-421c-8ca5-fbcf746bbdee');\n",
              "var x = new MutationObserver(function (mutations, observer) {{\n",
              "        var display = window.getComputedStyle(gd).display;\n",
              "        if (!display || display === 'none') {{\n",
              "            console.log([gd, 'removed!']);\n",
              "            Plotly.purge(gd);\n",
              "            observer.disconnect();\n",
              "        }}\n",
              "}});\n",
              "\n",
              "// Listen for the removal of the full notebook cells\n",
              "var notebookContainer = gd.closest('#notebook-container');\n",
              "if (notebookContainer) {{\n",
              "    x.observe(notebookContainer, {childList: true});\n",
              "}}\n",
              "\n",
              "// Listen for the clearing of the current output cell\n",
              "var outputEl = gd.closest('.output');\n",
              "if (outputEl) {{\n",
              "    x.observe(outputEl, {childList: true});\n",
              "}}\n",
              "\n",
              "                        })                };                            </script>        </div>\n",
              "</body>\n",
              "</html>"
            ]
          },
          "metadata": {}
        }
      ],
      "source": [
        "# create visualization with least popular titles according to ratings\n",
        "import plotly.express as px\n",
        "\n",
        "fig = px.bar(x=bttm_10_movies_pd.title, y=bttm_10_movies_pd.rating, color=bttm_10_movies_pd.rating, title= 'Bottom 10 Netflix Titles Based on Rating', labels={'x':'Film Title', 'y': 'Rating'}, height=400)\n",
        "fig.show()"
      ]
    },
    {
      "cell_type": "markdown",
      "metadata": {
        "id": "WiPkglc5oEEd"
      },
      "source": [
        "# Section 3: Transform the clean data\n",
        "\n",
        "10 points\n",
        "\n",
        "Once you have clean data, start to prepare it to fit your analysis tools. This might mean using custom code to normalize certain values, joining supplemental datasets, and/or preparing it for machine learning.\n",
        "\n",
        "### This section should include one or more of the following:\n",
        "- Write a UDF to perform a function, then use it to add a new column to your data. Explain why in [markdown](https://www.markdownguide.org/cheat-sheet)\n",
        "- Join an outside data source. (It can be one you've prepared alongside the primary source you're using, as long as you link it)\n",
        "- Split the data into train/test sets\n",
        "- Create vectors for relavent features\n",
        "- One-hot encode catagorical variables"
      ]
    },
    {
      "cell_type": "code",
      "execution_count": null,
      "metadata": {
        "id": "FUehC0OXjo5y"
      },
      "outputs": [],
      "source": [
        "import pandas as pd\n",
        "from sklearn.metrics.pairwise import linear_kernel\n",
        "from sklearn.metrics.pairwise import cosine_similarity\n",
        "from sklearn.feature_extraction.text import TfidfVectorizer\n",
        "from pyspark.sql.functions import col, udf\n",
        "from pyspark.sql.types import StringType\n",
        "\n",
        "\n",
        "indices = pd.Series(netflix_df_pd.index, index=netflix_df_pd['title'])\n",
        "\n",
        "def get_recommendations(cosine_sim, indices):\n",
        "  tries = 10\n",
        "  for i in range(tries):\n",
        "\n",
        "      if(tries == 5):\n",
        "        print(\"You have made the max amount of attempts.\")\n",
        "        break\n",
        "      try:\n",
        "        # Ask user for input\n",
        "        title = input(\"Please enter a movie title to receive recommendations: \")\n",
        "\n",
        "        # Get the index of the movie that matches the title\n",
        "        idx = indices[title]\n",
        "        # Get the pairwsie similarity scores\n",
        "        sim_scores = list(enumerate(cosine_sim[idx]))\n",
        "        # Sort the movies based on the similarity scores\n",
        "        sim_scores = sorted(sim_scores, key=lambda x: x[1], reverse=True)\n",
        "        # Get the scores for 10 most similar movies\n",
        "        sim_scores = sim_scores[1:11]\n",
        "        # Get the movie indices\n",
        "        movie_indices = [i[0] for i in sim_scores]\n",
        "        # Return the top 10 most similar movies\n",
        "        print(\"----Here are your recommended Netflix titles---- \\n\")\n",
        "        return netflix_df_pd['title'].iloc[movie_indices]\n",
        "\n",
        "      except:\n",
        "        print(\"Not found. Please enter a different title.\")\n",
        "        continue\n",
        "\n",
        "      break"
      ]
    },
    {
      "cell_type": "code",
      "execution_count": null,
      "metadata": {
        "id": "dnzUVY_5mzD5"
      },
      "outputs": [],
      "source": [
        "movie_plots = netflix_df_pd['description']"
      ]
    },
    {
      "cell_type": "markdown",
      "metadata": {
        "id": "OD0cVNzDnyjH"
      },
      "source": [
        "# Section 4: Show your analysis of the data\n",
        "\n",
        "10 points\n",
        "\n",
        "This is where the science happens. Use your data to show some kind of insight, and how you got there. Make the reader understand why it's important, and how they can get the same conslusion, and/or what would need to change to reach a different one.\n",
        "\n",
        "### This section should include one or more of the following:\n",
        "- Fit the data to a model\n",
        "- Show the outcome of clustering, regression, and/or classification algorithms.\n",
        " - We used several in class, but you can use whatever fits your needs for this assignment\n",
        "- Reccomend a product/item\n",
        "- Use a SQL query to filter results"
      ]
    },
    {
      "cell_type": "markdown",
      "metadata": {
        "id": "8Idoj9S-eedg"
      },
      "source": [
        "Below, we can see the average duration, rating, and votes of the Netflix catalog in the database. From this analysis, we can assume that the shows have slightly below moderate rating/popularity."
      ]
    },
    {
      "cell_type": "code",
      "execution_count": null,
      "metadata": {
        "id": "iBcqbL0bAPY6"
      },
      "outputs": [],
      "source": [
        "df_numeric = netflix_df.select('duration','rating','votes')\n",
        "df_numeric.describe().show()"
      ]
    },
    {
      "cell_type": "markdown",
      "metadata": {
        "id": "RvS3Pji5B25q"
      },
      "source": [
        "The first value that the pearson correlation function outputs is the r value of two variables. Thus, will be analyzing the relationship between the amount of votes a Netflix receives and the rating. Since it has an r-value of 0.21, this means that the two variables have a poor positive correlation. They do not have a linear relationship."
      ]
    },
    {
      "cell_type": "code",
      "execution_count": 36,
      "metadata": {
        "id": "UN10N-njoezf",
        "colab": {
          "base_uri": "https://localhost:8080/",
          "height": 333
        },
        "outputId": "9838d601-3749-4af6-f661-a941a27ef5f1"
      },
      "outputs": [
        {
          "output_type": "error",
          "ename": "ValueError",
          "evalue": "array must not contain infs or NaNs",
          "traceback": [
            "\u001b[0;31m---------------------------------------------------------------------------\u001b[0m",
            "\u001b[0;31mValueError\u001b[0m                                Traceback (most recent call last)",
            "\u001b[0;32m<ipython-input-36-c03f6e8d4995>\u001b[0m in \u001b[0;36m<cell line: 4>\u001b[0;34m()\u001b[0m\n\u001b[1;32m      2\u001b[0m \u001b[0;34m\u001b[0m\u001b[0m\n\u001b[1;32m      3\u001b[0m \u001b[0;31m#calculation correlation coefficient and p-value between votes and rating\u001b[0m\u001b[0;34m\u001b[0m\u001b[0;34m\u001b[0m\u001b[0m\n\u001b[0;32m----> 4\u001b[0;31m \u001b[0mpearsonr\u001b[0m\u001b[0;34m(\u001b[0m\u001b[0mnetflix_df_pd\u001b[0m\u001b[0;34m[\u001b[0m\u001b[0;34m'votes'\u001b[0m\u001b[0;34m]\u001b[0m\u001b[0;34m,\u001b[0m \u001b[0mnetflix_df_pd\u001b[0m\u001b[0;34m[\u001b[0m\u001b[0;34m'rating'\u001b[0m\u001b[0;34m]\u001b[0m\u001b[0;34m)\u001b[0m\u001b[0;34m\u001b[0m\u001b[0;34m\u001b[0m\u001b[0m\n\u001b[0m",
            "\u001b[0;32m/usr/local/lib/python3.10/dist-packages/scipy/stats/_stats_py.py\u001b[0m in \u001b[0;36mpearsonr\u001b[0;34m(x, y, alternative, method)\u001b[0m\n\u001b[1;32m   4835\u001b[0m     \u001b[0;31m# scipy.linalg.norm(xm) does not overflow if xm is, for example,\u001b[0m\u001b[0;34m\u001b[0m\u001b[0;34m\u001b[0m\u001b[0m\n\u001b[1;32m   4836\u001b[0m     \u001b[0;31m# [-5e210, 5e210, 3e200, -3e200]\u001b[0m\u001b[0;34m\u001b[0m\u001b[0;34m\u001b[0m\u001b[0m\n\u001b[0;32m-> 4837\u001b[0;31m     \u001b[0mnormxm\u001b[0m \u001b[0;34m=\u001b[0m \u001b[0mlinalg\u001b[0m\u001b[0;34m.\u001b[0m\u001b[0mnorm\u001b[0m\u001b[0;34m(\u001b[0m\u001b[0mxm\u001b[0m\u001b[0;34m)\u001b[0m\u001b[0;34m\u001b[0m\u001b[0;34m\u001b[0m\u001b[0m\n\u001b[0m\u001b[1;32m   4838\u001b[0m     \u001b[0mnormym\u001b[0m \u001b[0;34m=\u001b[0m \u001b[0mlinalg\u001b[0m\u001b[0;34m.\u001b[0m\u001b[0mnorm\u001b[0m\u001b[0;34m(\u001b[0m\u001b[0mym\u001b[0m\u001b[0;34m)\u001b[0m\u001b[0;34m\u001b[0m\u001b[0;34m\u001b[0m\u001b[0m\n\u001b[1;32m   4839\u001b[0m \u001b[0;34m\u001b[0m\u001b[0m\n",
            "\u001b[0;32m/usr/local/lib/python3.10/dist-packages/scipy/linalg/_misc.py\u001b[0m in \u001b[0;36mnorm\u001b[0;34m(a, ord, axis, keepdims, check_finite)\u001b[0m\n\u001b[1;32m    144\u001b[0m     \u001b[0;31m# Differs from numpy only in non-finite handling and the use of blas.\u001b[0m\u001b[0;34m\u001b[0m\u001b[0;34m\u001b[0m\u001b[0m\n\u001b[1;32m    145\u001b[0m     \u001b[0;32mif\u001b[0m \u001b[0mcheck_finite\u001b[0m\u001b[0;34m:\u001b[0m\u001b[0;34m\u001b[0m\u001b[0;34m\u001b[0m\u001b[0m\n\u001b[0;32m--> 146\u001b[0;31m         \u001b[0ma\u001b[0m \u001b[0;34m=\u001b[0m \u001b[0mnp\u001b[0m\u001b[0;34m.\u001b[0m\u001b[0masarray_chkfinite\u001b[0m\u001b[0;34m(\u001b[0m\u001b[0ma\u001b[0m\u001b[0;34m)\u001b[0m\u001b[0;34m\u001b[0m\u001b[0;34m\u001b[0m\u001b[0m\n\u001b[0m\u001b[1;32m    147\u001b[0m     \u001b[0;32melse\u001b[0m\u001b[0;34m:\u001b[0m\u001b[0;34m\u001b[0m\u001b[0;34m\u001b[0m\u001b[0m\n\u001b[1;32m    148\u001b[0m         \u001b[0ma\u001b[0m \u001b[0;34m=\u001b[0m \u001b[0mnp\u001b[0m\u001b[0;34m.\u001b[0m\u001b[0masarray\u001b[0m\u001b[0;34m(\u001b[0m\u001b[0ma\u001b[0m\u001b[0;34m)\u001b[0m\u001b[0;34m\u001b[0m\u001b[0;34m\u001b[0m\u001b[0m\n",
            "\u001b[0;32m/usr/local/lib/python3.10/dist-packages/numpy/lib/function_base.py\u001b[0m in \u001b[0;36masarray_chkfinite\u001b[0;34m(a, dtype, order)\u001b[0m\n\u001b[1;32m    628\u001b[0m     \u001b[0ma\u001b[0m \u001b[0;34m=\u001b[0m \u001b[0masarray\u001b[0m\u001b[0;34m(\u001b[0m\u001b[0ma\u001b[0m\u001b[0;34m,\u001b[0m \u001b[0mdtype\u001b[0m\u001b[0;34m=\u001b[0m\u001b[0mdtype\u001b[0m\u001b[0;34m,\u001b[0m \u001b[0morder\u001b[0m\u001b[0;34m=\u001b[0m\u001b[0morder\u001b[0m\u001b[0;34m)\u001b[0m\u001b[0;34m\u001b[0m\u001b[0;34m\u001b[0m\u001b[0m\n\u001b[1;32m    629\u001b[0m     \u001b[0;32mif\u001b[0m \u001b[0ma\u001b[0m\u001b[0;34m.\u001b[0m\u001b[0mdtype\u001b[0m\u001b[0;34m.\u001b[0m\u001b[0mchar\u001b[0m \u001b[0;32min\u001b[0m \u001b[0mtypecodes\u001b[0m\u001b[0;34m[\u001b[0m\u001b[0;34m'AllFloat'\u001b[0m\u001b[0;34m]\u001b[0m \u001b[0;32mand\u001b[0m \u001b[0;32mnot\u001b[0m \u001b[0mnp\u001b[0m\u001b[0;34m.\u001b[0m\u001b[0misfinite\u001b[0m\u001b[0;34m(\u001b[0m\u001b[0ma\u001b[0m\u001b[0;34m)\u001b[0m\u001b[0;34m.\u001b[0m\u001b[0mall\u001b[0m\u001b[0;34m(\u001b[0m\u001b[0;34m)\u001b[0m\u001b[0;34m:\u001b[0m\u001b[0;34m\u001b[0m\u001b[0;34m\u001b[0m\u001b[0m\n\u001b[0;32m--> 630\u001b[0;31m         raise ValueError(\n\u001b[0m\u001b[1;32m    631\u001b[0m             \"array must not contain infs or NaNs\")\n\u001b[1;32m    632\u001b[0m     \u001b[0;32mreturn\u001b[0m \u001b[0ma\u001b[0m\u001b[0;34m\u001b[0m\u001b[0;34m\u001b[0m\u001b[0m\n",
            "\u001b[0;31mValueError\u001b[0m: array must not contain infs or NaNs"
          ]
        }
      ],
      "source": [
        "from scipy.stats import pearsonr\n",
        "\n",
        "#calculation correlation coefficient and p-value between votes and rating\n",
        "pearsonr(netflix_df_pd['votes'], netflix_df_pd['rating'])\n"
      ]
    },
    {
      "cell_type": "markdown",
      "metadata": {
        "id": "f4bqCa3xr082"
      },
      "source": [
        "A TF-IDF matrix will be constructed to compare the similarity of Netflix title descriptions, which will be used to recommend titles with similar plots to interested Netflix users."
      ]
    },
    {
      "cell_type": "code",
      "execution_count": 37,
      "metadata": {
        "id": "WTtDHO55n14V"
      },
      "outputs": [],
      "source": [
        "tfidf = TfidfVectorizer(stop_words='english')\n",
        "\n",
        "# Construct the TF-IDF matrix by fitting and transforming data to create a matrix\n",
        "tfidf_matrix = tfidf.fit_transform(movie_plots)\n",
        "\n",
        "# Generate the cosine similarity matrix\n",
        "cosine_sim = linear_kernel(tfidf_matrix, tfidf_matrix)"
      ]
    },
    {
      "cell_type": "markdown",
      "metadata": {
        "id": "xf_GGqbh9YZa"
      },
      "source": [
        "The final step involves getting user input in order to suggest a similar movie or show based on description."
      ]
    },
    {
      "cell_type": "code",
      "execution_count": 39,
      "metadata": {
        "id": "wAFmIcO1qA9-",
        "colab": {
          "base_uri": "https://localhost:8080/"
        },
        "outputId": "c067e5de-c84c-43da-b098-cb8df12cf10f"
      },
      "outputs": [
        {
          "output_type": "stream",
          "name": "stdout",
          "text": [
            "Please enter a movie title to receive recommendations: our planet\n",
            "----Here are your recommended Netflix titles---- \n",
            "\n",
            "5188            the lazarus papers\n",
            "4320                         shark\n",
            "3151                 meerkat manor\n",
            "4729                        temple\n",
            "1816                 frozen planet\n",
            "6093    win the wilderness: alaska\n",
            "3182         message from the king\n",
            "3143                     meateater\n",
            "1413                          dogs\n",
            "5277             the negro soldier\n",
            "Name: title, dtype: object\n"
          ]
        }
      ],
      "source": [
        "#Generate Recommendations based on similar description/plots\n",
        "print(get_recommendations(cosine_sim, indices))"
      ]
    },
    {
      "cell_type": "code",
      "source": [],
      "metadata": {
        "id": "UWcXHrPyc2iz"
      },
      "execution_count": null,
      "outputs": []
    }
  ],
  "metadata": {
    "colab": {
      "provenance": [],
      "toc_visible": true,
      "include_colab_link": true
    },
    "kernelspec": {
      "display_name": "Python 3",
      "name": "python3"
    },
    "language_info": {
      "codemirror_mode": {
        "name": "ipython",
        "version": 3
      },
      "file_extension": ".py",
      "mimetype": "text/x-python",
      "name": "python",
      "nbconvert_exporter": "python",
      "pygments_lexer": "ipython3",
      "version": "3.12.0"
    }
  },
  "nbformat": 4,
  "nbformat_minor": 0
}